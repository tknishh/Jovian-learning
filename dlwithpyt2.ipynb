{
 "cells": [
  {
   "cell_type": "markdown",
   "id": "768c1153",
   "metadata": {
    "papermill": {
     "duration": 0.071806,
     "end_time": "2022-01-04T19:57:40.826849",
     "exception": false,
     "start_time": "2022-01-04T19:57:40.755043",
     "status": "completed"
    },
    "tags": []
   },
   "source": [
    "## Gradient Descent and Linear Regression with PyTorch\n",
    "\n",
    "### Part 2 of \"Deep Learning with Pytorch: Zero to GANs\"\n",
    "\n",
    "This tutorial series is a hands-on beginner-friendly introduction to deep learning using [PyTorch](https://pytorch.org), an open-source neural networks library. These tutorials take a practical and coding-focused approach. The best way to learn the material is to execute the code and experiment with it yourself. Check out the full series here:\n",
    "\n",
    "1. [PyTorch Basics: Tensors & Gradients](https://jovian.ai/aakashns/01-pytorch-basics)\n",
    "2. [Gradient Descent & Linear Regression](https://jovian.ai/aakashns/02-linear-regression)\n",
    "3. [Working with Images & Logistic Regression](https://jovian.ai/aakashns/03-logistic-regression) \n",
    "4. [Training Deep Neural Networks on a GPU](https://jovian.ai/aakashns/04-feedforward-nn)\n",
    "5. [Image Classification using Convolutional Neural Networks](https://jovian.ai/aakashns/05-cifar10-cnn)\n",
    "6. [Data Augmentation, Regularization and ResNets](https://jovian.ai/aakashns/05b-cifar10-resnet)\n",
    "7. [Generating Images using Generative Adversarial Networks](https://jovian.ai/aakashns/06b-anime-dcgan/)\n"
   ]
  },
  {
   "cell_type": "markdown",
   "id": "1c6e85ab",
   "metadata": {
    "papermill": {
     "duration": 0.069353,
     "end_time": "2022-01-04T19:57:40.965551",
     "exception": false,
     "start_time": "2022-01-04T19:57:40.896198",
     "status": "completed"
    },
    "tags": []
   },
   "source": [
    "This tutorial covers the following topics:\n",
    "\n",
    "- Introduction to linear regression and gradient descent\n",
    "- Implementing a linear regression model using PyTorch tensors\n",
    "- Training a linear regression model using the gradient descent algorithm\n",
    "- Implementing gradient descent and linear regression using PyTorch built-in"
   ]
  },
  {
   "cell_type": "markdown",
   "id": "00768836",
   "metadata": {
    "papermill": {
     "duration": 0.068682,
     "end_time": "2022-01-04T19:57:41.102212",
     "exception": false,
     "start_time": "2022-01-04T19:57:41.033530",
     "status": "completed"
    },
    "tags": []
   },
   "source": [
    "### How to run the code\n",
    "\n",
    "This tutorial is an executable [Jupyter notebook](https://jupyter.org) hosted on [Jovian](https://www.jovian.ai) (don't worry if these terms seem unfamiliar; we'll learn more about them soon). You can _run_ this tutorial and experiment with the code examples in a couple of ways: *using free online resources* (recommended) or *on your computer*.\n",
    "\n",
    "#### Option 1: Running using free online resources (1-click, recommended)\n",
    "\n",
    "The easiest way to start executing the code is to click the **Run** button at the top of this page and select **Run on Colab**. [Google Colab](https://colab.research.google.com) is a free online platform for running Jupyter notebooks using Google's cloud infrastructure. You can also select \"Run on Binder\" or \"Run on Kaggle\" if you face issues running the notebook on Google Colab.\n",
    "\n",
    "\n",
    "#### Option 2: Running on your computer locally\n",
    "\n",
    "To run the code on your computer locally, you'll need to set up [Python](https://www.python.org), download the notebook and install the required libraries. We recommend using the [Conda](https://docs.conda.io/projects/conda/en/latest/user-guide/install/) distribution of Python. Click the **Run** button at the top of this page, select the **Run Locally** option, and follow the instructions.\n",
    "\n",
    ">  **Jupyter Notebooks**: This tutorial is a [Jupyter notebook](https://jupyter.org) - a document made of _cells_. Each cell can contain code written in Python or explanations in plain English. You can execute code cells and view the results, e.g., numbers, messages, graphs, tables, files, etc. instantly within the notebook. Jupyter is a powerful platform for experimentation and analysis. Don't be afraid to mess around with the code & break things - you'll learn a lot by encountering and fixing errors. You can use the \"Kernel > Restart & Clear Output\" or \"Edit > Clear Outputs\" menu option to clear all outputs and start again from the top."
   ]
  },
  {
   "cell_type": "markdown",
   "id": "5ff3bfd8",
   "metadata": {
    "papermill": {
     "duration": 0.069764,
     "end_time": "2022-01-04T19:57:41.240492",
     "exception": false,
     "start_time": "2022-01-04T19:57:41.170728",
     "status": "completed"
    },
    "tags": []
   },
   "source": [
    "Before we begin, we need to install the required libraries. The installation of PyTorch may differ based on your operating system / cloud environment. You can find detailed installation instructions here: https://pytorch.org ."
   ]
  },
  {
   "cell_type": "code",
   "execution_count": 1,
   "id": "3d50cfc2",
   "metadata": {
    "execution": {
     "iopub.execute_input": "2022-01-04T19:57:41.388722Z",
     "iopub.status.busy": "2022-01-04T19:57:41.387562Z",
     "iopub.status.idle": "2022-01-04T19:58:27.548288Z",
     "shell.execute_reply": "2022-01-04T19:58:27.546635Z",
     "shell.execute_reply.started": "2022-01-04T19:02:21.640104Z"
    },
    "papermill": {
     "duration": 46.236364,
     "end_time": "2022-01-04T19:58:27.548485",
     "exception": false,
     "start_time": "2022-01-04T19:57:41.312121",
     "status": "completed"
    },
    "tags": []
   },
   "outputs": [
    {
     "name": "stdout",
     "output_type": "stream",
     "text": [
      "Looking in links: https://download.pytorch.org/whl/torch_stable.html\r\n",
      "Requirement already satisfied: numpy in /opt/conda/lib/python3.7/site-packages (1.19.5)\r\n",
      "Collecting torch==1.7.0+cpu\r\n",
      "  Downloading https://download.pytorch.org/whl/cpu/torch-1.7.0%2Bcpu-cp37-cp37m-linux_x86_64.whl (159.3 MB)\r\n",
      "     |████████████████████████████████| 159.3 MB 4.1 kB/s             \r\n",
      "\u001b[?25hCollecting torchvision==0.8.1+cpu\r\n",
      "  Downloading https://download.pytorch.org/whl/cpu/torchvision-0.8.1%2Bcpu-cp37-cp37m-linux_x86_64.whl (11.8 MB)\r\n",
      "     |████████████████████████████████| 11.8 MB 41.2 MB/s            \r\n",
      "\u001b[?25hCollecting torchaudio==0.7.0\r\n",
      "  Downloading torchaudio-0.7.0-cp37-cp37m-manylinux1_x86_64.whl (7.6 MB)\r\n",
      "     |████████████████████████████████| 7.6 MB 920 kB/s            \r\n",
      "\u001b[?25hRequirement already satisfied: future in /opt/conda/lib/python3.7/site-packages (from torch==1.7.0+cpu) (0.18.2)\r\n",
      "Requirement already satisfied: dataclasses in /opt/conda/lib/python3.7/site-packages (from torch==1.7.0+cpu) (0.8)\r\n",
      "Requirement already satisfied: typing-extensions in /opt/conda/lib/python3.7/site-packages (from torch==1.7.0+cpu) (3.10.0.2)\r\n",
      "Requirement already satisfied: pillow>=4.1.1 in /opt/conda/lib/python3.7/site-packages (from torchvision==0.8.1+cpu) (8.2.0)\r\n",
      "Installing collected packages: torch, torchvision, torchaudio\r\n",
      "  Attempting uninstall: torch\r\n",
      "    Found existing installation: torch 1.9.1+cpu\r\n",
      "    Uninstalling torch-1.9.1+cpu:\r\n",
      "      Successfully uninstalled torch-1.9.1+cpu\r\n",
      "  Attempting uninstall: torchvision\r\n",
      "    Found existing installation: torchvision 0.10.1+cpu\r\n",
      "    Uninstalling torchvision-0.10.1+cpu:\r\n",
      "      Successfully uninstalled torchvision-0.10.1+cpu\r\n",
      "  Attempting uninstall: torchaudio\r\n",
      "    Found existing installation: torchaudio 0.9.1\r\n",
      "    Uninstalling torchaudio-0.9.1:\r\n",
      "      Successfully uninstalled torchaudio-0.9.1\r\n",
      "\u001b[31mERROR: pip's dependency resolver does not currently take into account all the packages that are installed. This behaviour is the source of the following dependency conflicts.\r\n",
      "torchtext 0.10.1 requires torch==1.9.1, but you have torch 1.7.0+cpu which is incompatible.\r\n",
      "fastai 2.5.3 requires torchvision>=0.8.2, but you have torchvision 0.8.1+cpu which is incompatible.\u001b[0m\r\n",
      "Successfully installed torch-1.7.0+cpu torchaudio-0.7.0 torchvision-0.8.1+cpu\r\n",
      "\u001b[33mWARNING: Running pip as the 'root' user can result in broken permissions and conflicting behaviour with the system package manager. It is recommended to use a virtual environment instead: https://pip.pypa.io/warnings/venv\u001b[0m\r\n"
     ]
    }
   ],
   "source": [
    "# Uncomment and run the appropriate command for your operating system, if required\n",
    "\n",
    "# Linux / Binder\n",
    "# !pip install numpy torch==1.7.0+cpu torchvision==0.8.1+cpu torchaudio==0.7.0 -f https://download.pytorch.org/whl/torch_stable.html\n",
    "\n",
    "# Windows\n",
    "!pip install numpy torch==1.7.0+cpu torchvision==0.8.1+cpu torchaudio==0.7.0 -f https://download.pytorch.org/whl/torch_stable.html\n",
    "\n",
    "# MacOS\n",
    "# !pip install numpy torch torchvision torchaudio"
   ]
  },
  {
   "cell_type": "markdown",
   "id": "d6a9b16f",
   "metadata": {
    "papermill": {
     "duration": 0.185327,
     "end_time": "2022-01-04T19:58:27.927975",
     "exception": false,
     "start_time": "2022-01-04T19:58:27.742648",
     "status": "completed"
    },
    "tags": []
   },
   "source": [
    "## Introduction to Linear Regression\n",
    "\n",
    "In this tutorial, we'll discuss one of the foundational algorithms in machine learning: *Linear regression*. We'll create a model that predicts crop yields for apples and oranges (*target variables*) by looking at the average temperature, rainfall, and humidity (*input variables or features*) in a region. Here's the training data:\n",
    "\n",
    "![linear-regression-training-data](https://i.imgur.com/6Ujttb4.png)\n",
    "\n",
    "In a linear regression model, each target variable is estimated to be a weighted sum of the input variables, offset by some constant, known as a bias :\n",
    "\n",
    "```\n",
    "yield_apple  = w11 * temp + w12 * rainfall + w13 * humidity + b1\n",
    "yield_orange = w21 * temp + w22 * rainfall + w23 * humidity + b2\n",
    "```\n",
    "\n",
    "Visually, it means that the yield of apples is a linear or planar function of temperature, rainfall and humidity:\n",
    "\n",
    "![linear-regression-graph](https://i.imgur.com/4DJ9f8X.png)"
   ]
  },
  {
   "cell_type": "markdown",
   "id": "21cacacd",
   "metadata": {
    "papermill": {
     "duration": 0.173238,
     "end_time": "2022-01-04T19:58:28.271948",
     "exception": false,
     "start_time": "2022-01-04T19:58:28.098710",
     "status": "completed"
    },
    "tags": []
   },
   "source": [
    "The *learning* part of linear regression is to figure out a set of weights `w11, w12,... w23, b1 & b2` using the training data, to make accurate predictions for new data. The _learned_ weights will be used to predict the yields for apples and oranges in a new region using the average temperature, rainfall, and humidity for that region. \n",
    "\n",
    "We'll _train_ our model by adjusting the weights slightly many times to make better predictions, using an optimization technique called *gradient descent*. Let's begin by importing Numpy and PyTorch."
   ]
  },
  {
   "cell_type": "code",
   "execution_count": 2,
   "id": "eefcef7f",
   "metadata": {
    "execution": {
     "iopub.execute_input": "2022-01-04T19:58:28.618030Z",
     "iopub.status.busy": "2022-01-04T19:58:28.617020Z",
     "iopub.status.idle": "2022-01-04T19:58:29.147557Z",
     "shell.execute_reply": "2022-01-04T19:58:29.146986Z",
     "shell.execute_reply.started": "2022-01-04T19:02:48.283174Z"
    },
    "papermill": {
     "duration": 0.704548,
     "end_time": "2022-01-04T19:58:29.147699",
     "exception": false,
     "start_time": "2022-01-04T19:58:28.443151",
     "status": "completed"
    },
    "tags": []
   },
   "outputs": [],
   "source": [
    "import numpy as np\n",
    "import torch"
   ]
  },
  {
   "cell_type": "markdown",
   "id": "91377ddf",
   "metadata": {
    "papermill": {
     "duration": 0.167762,
     "end_time": "2022-01-04T19:58:29.484289",
     "exception": false,
     "start_time": "2022-01-04T19:58:29.316527",
     "status": "completed"
    },
    "tags": []
   },
   "source": [
    "## Training data\n",
    "\n",
    "We can represent the training data using two matrices: `inputs` and `targets`, each with one row per observation, and one column per variable."
   ]
  },
  {
   "cell_type": "code",
   "execution_count": 3,
   "id": "d9b907b6",
   "metadata": {
    "execution": {
     "iopub.execute_input": "2022-01-04T19:58:29.826526Z",
     "iopub.status.busy": "2022-01-04T19:58:29.825634Z",
     "iopub.status.idle": "2022-01-04T19:58:29.828543Z",
     "shell.execute_reply": "2022-01-04T19:58:29.828036Z",
     "shell.execute_reply.started": "2022-01-04T19:02:56.125655Z"
    },
    "papermill": {
     "duration": 0.175375,
     "end_time": "2022-01-04T19:58:29.828688",
     "exception": false,
     "start_time": "2022-01-04T19:58:29.653313",
     "status": "completed"
    },
    "tags": []
   },
   "outputs": [],
   "source": [
    "# Input (temp, rainfall, humidity)\n",
    "inputs = np.array([[73, 67, 43], \n",
    "                   [91, 88, 64], \n",
    "                   [87, 134, 58], \n",
    "                   [102, 43, 37], \n",
    "                   [69, 96, 70]], dtype='float32')"
   ]
  },
  {
   "cell_type": "code",
   "execution_count": 4,
   "id": "0448d366",
   "metadata": {
    "execution": {
     "iopub.execute_input": "2022-01-04T19:58:30.202631Z",
     "iopub.status.busy": "2022-01-04T19:58:30.201536Z",
     "iopub.status.idle": "2022-01-04T19:58:30.203614Z",
     "shell.execute_reply": "2022-01-04T19:58:30.204479Z",
     "shell.execute_reply.started": "2022-01-04T19:02:58.844108Z"
    },
    "papermill": {
     "duration": 0.193284,
     "end_time": "2022-01-04T19:58:30.204720",
     "exception": false,
     "start_time": "2022-01-04T19:58:30.011436",
     "status": "completed"
    },
    "tags": []
   },
   "outputs": [],
   "source": [
    "# Targets (apples, oranges)\n",
    "targets = np.array([[56, 70], \n",
    "                    [81, 101], \n",
    "                    [119, 133], \n",
    "                    [22, 37], \n",
    "                    [103, 119]], dtype='float32')"
   ]
  },
  {
   "cell_type": "markdown",
   "id": "cc22c990",
   "metadata": {
    "papermill": {
     "duration": 0.182906,
     "end_time": "2022-01-04T19:58:30.578497",
     "exception": false,
     "start_time": "2022-01-04T19:58:30.395591",
     "status": "completed"
    },
    "tags": []
   },
   "source": [
    "We've separated the input and target variables because we'll operate on them separately. Also, we've created numpy arrays, because this is typically how you would work with training data: read some CSV files as numpy arrays, do some processing, and then convert them to PyTorch tensors.\n",
    "\n",
    "Let's convert the arrays to PyTorch tensors."
   ]
  },
  {
   "cell_type": "code",
   "execution_count": 5,
   "id": "dbe62a89",
   "metadata": {
    "execution": {
     "iopub.execute_input": "2022-01-04T19:58:30.953905Z",
     "iopub.status.busy": "2022-01-04T19:58:30.953227Z",
     "iopub.status.idle": "2022-01-04T19:58:30.958664Z",
     "shell.execute_reply": "2022-01-04T19:58:30.959131Z",
     "shell.execute_reply.started": "2022-01-04T19:04:52.440024Z"
    },
    "papermill": {
     "duration": 0.180194,
     "end_time": "2022-01-04T19:58:30.959313",
     "exception": false,
     "start_time": "2022-01-04T19:58:30.779119",
     "status": "completed"
    },
    "tags": []
   },
   "outputs": [
    {
     "name": "stdout",
     "output_type": "stream",
     "text": [
      "tensor([[ 73.,  67.,  43.],\n",
      "        [ 91.,  88.,  64.],\n",
      "        [ 87., 134.,  58.],\n",
      "        [102.,  43.,  37.],\n",
      "        [ 69.,  96.,  70.]])\n",
      "tensor([[ 56.,  70.],\n",
      "        [ 81., 101.],\n",
      "        [119., 133.],\n",
      "        [ 22.,  37.],\n",
      "        [103., 119.]])\n"
     ]
    }
   ],
   "source": [
    "# Convert inputs and targets to tensors\n",
    "inputs = torch.from_numpy(inputs)\n",
    "targets = torch.from_numpy(targets)\n",
    "print(inputs)\n",
    "print(targets)"
   ]
  },
  {
   "cell_type": "markdown",
   "id": "b4ff32b1",
   "metadata": {
    "papermill": {
     "duration": 0.168647,
     "end_time": "2022-01-04T19:58:31.296650",
     "exception": false,
     "start_time": "2022-01-04T19:58:31.128003",
     "status": "completed"
    },
    "tags": []
   },
   "source": [
    "## Linear regression model from scratch\n",
    "\n",
    "The weights and biases (`w11, w12,... w23, b1 & b2`) can also be represented as matrices, initialized as random values. The first row of `w` and the first element of `b` are used to predict the first target variable, i.e., yield of apples, and similarly, the second for oranges."
   ]
  },
  {
   "cell_type": "code",
   "execution_count": 6,
   "id": "5a8a5fd0",
   "metadata": {
    "execution": {
     "iopub.execute_input": "2022-01-04T19:58:31.636575Z",
     "iopub.status.busy": "2022-01-04T19:58:31.635855Z",
     "iopub.status.idle": "2022-01-04T19:58:31.640480Z",
     "shell.execute_reply": "2022-01-04T19:58:31.641089Z",
     "shell.execute_reply.started": "2022-01-04T19:05:01.617057Z"
    },
    "papermill": {
     "duration": 0.177633,
     "end_time": "2022-01-04T19:58:31.641259",
     "exception": false,
     "start_time": "2022-01-04T19:58:31.463626",
     "status": "completed"
    },
    "tags": []
   },
   "outputs": [
    {
     "name": "stdout",
     "output_type": "stream",
     "text": [
      "tensor([[-1.0045,  0.2931, -1.2200],\n",
      "        [ 0.8455,  1.3520, -0.8244]], requires_grad=True)\n",
      "tensor([-0.1982, -0.8397], requires_grad=True)\n"
     ]
    }
   ],
   "source": [
    "# Weights and biases\n",
    "w = torch.randn(2, 3, requires_grad=True)\n",
    "b = torch.randn(2, requires_grad=True)\n",
    "print(w)\n",
    "print(b)"
   ]
  },
  {
   "cell_type": "markdown",
   "id": "eb3f0e7b",
   "metadata": {
    "papermill": {
     "duration": 0.168929,
     "end_time": "2022-01-04T19:58:31.981170",
     "exception": false,
     "start_time": "2022-01-04T19:58:31.812241",
     "status": "completed"
    },
    "tags": []
   },
   "source": [
    "`torch.randn` creates a tensor with the given shape, with elements picked randomly from a [normal distribution](https://en.wikipedia.org/wiki/Normal_distribution) with mean 0 and standard deviation 1.\n",
    "\n",
    "Our *model* is simply a function that performs a matrix multiplication of the `inputs` and the weights `w` (transposed) and adds the bias `b` (replicated for each observation).\n",
    "\n",
    "![matrix-mult](https://i.imgur.com/WGXLFvA.png)\n",
    "\n",
    "We can define the model as follows:"
   ]
  },
  {
   "cell_type": "code",
   "execution_count": 7,
   "id": "9b8a0052",
   "metadata": {
    "execution": {
     "iopub.execute_input": "2022-01-04T19:58:32.330477Z",
     "iopub.status.busy": "2022-01-04T19:58:32.329762Z",
     "iopub.status.idle": "2022-01-04T19:58:32.331726Z",
     "shell.execute_reply": "2022-01-04T19:58:32.332202Z",
     "shell.execute_reply.started": "2022-01-04T19:11:32.928102Z"
    },
    "papermill": {
     "duration": 0.181671,
     "end_time": "2022-01-04T19:58:32.332389",
     "exception": false,
     "start_time": "2022-01-04T19:58:32.150718",
     "status": "completed"
    },
    "tags": []
   },
   "outputs": [],
   "source": [
    "def model(x):\n",
    "    return x @ w.t() + b"
   ]
  },
  {
   "cell_type": "markdown",
   "id": "e28c48f5",
   "metadata": {
    "papermill": {
     "duration": 0.177026,
     "end_time": "2022-01-04T19:58:32.678268",
     "exception": false,
     "start_time": "2022-01-04T19:58:32.501242",
     "status": "completed"
    },
    "tags": []
   },
   "source": [
    "`@` represents matrix multiplication in PyTorch, and the `.t` method returns the transpose of a tensor.\n",
    "\n",
    "The matrix obtained by passing the input data into the model is a set of predictions for the target variables."
   ]
  },
  {
   "cell_type": "code",
   "execution_count": 8,
   "id": "c4dfe4cc",
   "metadata": {
    "execution": {
     "iopub.execute_input": "2022-01-04T19:58:33.694382Z",
     "iopub.status.busy": "2022-01-04T19:58:33.693684Z",
     "iopub.status.idle": "2022-01-04T19:58:33.700059Z",
     "shell.execute_reply": "2022-01-04T19:58:33.700518Z",
     "shell.execute_reply.started": "2022-01-04T19:12:59.992757Z"
    },
    "papermill": {
     "duration": 0.849832,
     "end_time": "2022-01-04T19:58:33.700695",
     "exception": false,
     "start_time": "2022-01-04T19:58:32.850863",
     "status": "completed"
    },
    "tags": []
   },
   "outputs": [
    {
     "name": "stdout",
     "output_type": "stream",
     "text": [
      "tensor([[-106.3499,  116.0183],\n",
      "        [-143.8959,  142.3175],\n",
      "        [-119.0771,  206.0714],\n",
      "        [-135.1942,  113.0382],\n",
      "        [-126.7721,  129.5851]], grad_fn=<AddBackward0>)\n"
     ]
    }
   ],
   "source": [
    "# Generate predictions\n",
    "preds = model(inputs)\n",
    "print(preds)"
   ]
  },
  {
   "cell_type": "markdown",
   "id": "27264843",
   "metadata": {
    "papermill": {
     "duration": 0.175456,
     "end_time": "2022-01-04T19:58:34.306608",
     "exception": false,
     "start_time": "2022-01-04T19:58:34.131152",
     "status": "completed"
    },
    "tags": []
   },
   "source": [
    "Let's compare the predictions of our model with the actual targets."
   ]
  },
  {
   "cell_type": "code",
   "execution_count": 9,
   "id": "53bc15cb",
   "metadata": {
    "execution": {
     "iopub.execute_input": "2022-01-04T19:58:34.654426Z",
     "iopub.status.busy": "2022-01-04T19:58:34.653375Z",
     "iopub.status.idle": "2022-01-04T19:58:34.659918Z",
     "shell.execute_reply": "2022-01-04T19:58:34.660588Z",
     "shell.execute_reply.started": "2022-01-04T19:11:44.049196Z"
    },
    "papermill": {
     "duration": 0.183473,
     "end_time": "2022-01-04T19:58:34.660773",
     "exception": false,
     "start_time": "2022-01-04T19:58:34.477300",
     "status": "completed"
    },
    "tags": []
   },
   "outputs": [
    {
     "name": "stdout",
     "output_type": "stream",
     "text": [
      "tensor([[ 56.,  70.],\n",
      "        [ 81., 101.],\n",
      "        [119., 133.],\n",
      "        [ 22.,  37.],\n",
      "        [103., 119.]])\n"
     ]
    }
   ],
   "source": [
    "# Compare with targets\n",
    "print(targets)"
   ]
  },
  {
   "cell_type": "markdown",
   "id": "75bcf4d8",
   "metadata": {
    "papermill": {
     "duration": 0.170621,
     "end_time": "2022-01-04T19:58:35.021524",
     "exception": false,
     "start_time": "2022-01-04T19:58:34.850903",
     "status": "completed"
    },
    "tags": []
   },
   "source": [
    "You can see a big difference between our model's predictions and the actual targets because we've initialized our model with random weights and biases. Obviously, we can't expect a randomly initialized model to *just work*."
   ]
  },
  {
   "cell_type": "code",
   "execution_count": 10,
   "id": "5345f29f",
   "metadata": {
    "execution": {
     "iopub.execute_input": "2022-01-04T19:58:35.363796Z",
     "iopub.status.busy": "2022-01-04T19:58:35.362853Z",
     "iopub.status.idle": "2022-01-04T19:58:35.370385Z",
     "shell.execute_reply": "2022-01-04T19:58:35.370988Z",
     "shell.execute_reply.started": "2022-01-04T19:17:35.766742Z"
    },
    "papermill": {
     "duration": 0.182126,
     "end_time": "2022-01-04T19:58:35.371156",
     "exception": false,
     "start_time": "2022-01-04T19:58:35.189030",
     "status": "completed"
    },
    "tags": []
   },
   "outputs": [
    {
     "data": {
      "text/plain": [
       "tensor(22617.9668, grad_fn=<DivBackward0>)"
      ]
     },
     "execution_count": 10,
     "metadata": {},
     "output_type": "execute_result"
    }
   ],
   "source": [
    "diff = preds - targets\n",
    "torch.sum(diff * diff) / diff.numel()"
   ]
  },
  {
   "cell_type": "markdown",
   "id": "a92814d4",
   "metadata": {
    "papermill": {
     "duration": 0.168996,
     "end_time": "2022-01-04T19:58:35.707957",
     "exception": false,
     "start_time": "2022-01-04T19:58:35.538961",
     "status": "completed"
    },
    "tags": []
   },
   "source": [
    "## Loss function\n",
    "\n",
    "Before we improve our model, we need a way to evaluate how well our model is performing. We can compare the model's predictions with the actual targets using the following method:\n",
    "\n",
    "* Calculate the difference between the two matrices (`preds` and `targets`).\n",
    "* Square all elements of the difference matrix to remove negative values.\n",
    "* Calculate the average of the elements in the resulting matrix.\n",
    "\n",
    "The result is a single number, known as the **mean squared error** (MSE)."
   ]
  },
  {
   "cell_type": "code",
   "execution_count": 11,
   "id": "52e95eb1",
   "metadata": {
    "execution": {
     "iopub.execute_input": "2022-01-04T19:58:36.051150Z",
     "iopub.status.busy": "2022-01-04T19:58:36.050177Z",
     "iopub.status.idle": "2022-01-04T19:58:36.054361Z",
     "shell.execute_reply": "2022-01-04T19:58:36.054956Z",
     "shell.execute_reply.started": "2022-01-04T19:18:38.640519Z"
    },
    "papermill": {
     "duration": 0.178035,
     "end_time": "2022-01-04T19:58:36.055122",
     "exception": false,
     "start_time": "2022-01-04T19:58:35.877087",
     "status": "completed"
    },
    "tags": []
   },
   "outputs": [],
   "source": [
    "# MSE loss\n",
    "def mse(t1, t2):\n",
    "    diff = t1 - t2\n",
    "    return torch.sum(diff * diff) / diff.numel()"
   ]
  },
  {
   "cell_type": "markdown",
   "id": "29abb72d",
   "metadata": {
    "papermill": {
     "duration": 0.168998,
     "end_time": "2022-01-04T19:58:36.392700",
     "exception": false,
     "start_time": "2022-01-04T19:58:36.223702",
     "status": "completed"
    },
    "tags": []
   },
   "source": [
    "`torch.sum` returns the sum of all the elements in a tensor. The `.numel` method of a tensor returns the number of elements in a tensor. Let's compute the mean squared error for the current predictions of our model."
   ]
  },
  {
   "cell_type": "code",
   "execution_count": 12,
   "id": "005d605e",
   "metadata": {
    "execution": {
     "iopub.execute_input": "2022-01-04T19:58:36.731737Z",
     "iopub.status.busy": "2022-01-04T19:58:36.730769Z",
     "iopub.status.idle": "2022-01-04T19:58:36.736520Z",
     "shell.execute_reply": "2022-01-04T19:58:36.737082Z",
     "shell.execute_reply.started": "2022-01-04T19:18:49.896842Z"
    },
    "papermill": {
     "duration": 0.177511,
     "end_time": "2022-01-04T19:58:36.737258",
     "exception": false,
     "start_time": "2022-01-04T19:58:36.559747",
     "status": "completed"
    },
    "tags": []
   },
   "outputs": [
    {
     "name": "stdout",
     "output_type": "stream",
     "text": [
      "tensor(22617.9668, grad_fn=<DivBackward0>)\n"
     ]
    }
   ],
   "source": [
    "# Compute loss\n",
    "loss = mse(preds, targets)\n",
    "print(loss)"
   ]
  },
  {
   "cell_type": "markdown",
   "id": "444cb945",
   "metadata": {
    "papermill": {
     "duration": 0.170657,
     "end_time": "2022-01-04T19:58:37.076852",
     "exception": false,
     "start_time": "2022-01-04T19:58:36.906195",
     "status": "completed"
    },
    "tags": []
   },
   "source": [
    "Here’s how we can interpret the result: *On average, each element in the prediction differs from the actual target by the square root of the loss*. And that’s pretty bad, considering the numbers we are trying to predict are themselves in the range 50–200. The result is called the *loss* because it indicates how bad the model is at predicting the target variables. It represents information loss in the model: the lower the loss, the better the model."
   ]
  },
  {
   "cell_type": "markdown",
   "id": "0179ea02",
   "metadata": {
    "papermill": {
     "duration": 0.169622,
     "end_time": "2022-01-04T19:58:37.415318",
     "exception": false,
     "start_time": "2022-01-04T19:58:37.245696",
     "status": "completed"
    },
    "tags": []
   },
   "source": [
    "## Compute gradients\n",
    "\n",
    "With PyTorch, we can automatically compute the gradient or derivative of the loss w.r.t. to the weights and biases because they have `requires_grad` set to `True`. We'll see how this is useful in just a moment."
   ]
  },
  {
   "cell_type": "code",
   "execution_count": 13,
   "id": "dead9070",
   "metadata": {
    "execution": {
     "iopub.execute_input": "2022-01-04T19:58:37.764562Z",
     "iopub.status.busy": "2022-01-04T19:58:37.763545Z",
     "iopub.status.idle": "2022-01-04T19:58:37.767522Z",
     "shell.execute_reply": "2022-01-04T19:58:37.768125Z",
     "shell.execute_reply.started": "2022-01-04T19:18:55.553143Z"
    },
    "papermill": {
     "duration": 0.183527,
     "end_time": "2022-01-04T19:58:37.768297",
     "exception": false,
     "start_time": "2022-01-04T19:58:37.584770",
     "status": "completed"
    },
    "tags": []
   },
   "outputs": [],
   "source": [
    "# Compute gradients\n",
    "loss.backward()"
   ]
  },
  {
   "cell_type": "markdown",
   "id": "82da24a3",
   "metadata": {
    "papermill": {
     "duration": 0.179511,
     "end_time": "2022-01-04T19:58:38.120091",
     "exception": false,
     "start_time": "2022-01-04T19:58:37.940580",
     "status": "completed"
    },
    "tags": []
   },
   "source": [
    "The gradients are stored in the `.grad` property of the respective tensors. Note that the derivative of the loss w.r.t. the weights matrix is itself a matrix with the same dimensions."
   ]
  },
  {
   "cell_type": "code",
   "execution_count": 14,
   "id": "9e237cf7",
   "metadata": {
    "execution": {
     "iopub.execute_input": "2022-01-04T19:58:38.468009Z",
     "iopub.status.busy": "2022-01-04T19:58:38.467275Z",
     "iopub.status.idle": "2022-01-04T19:58:38.469781Z",
     "shell.execute_reply": "2022-01-04T19:58:38.470422Z",
     "shell.execute_reply.started": "2022-01-04T19:19:00.779860Z"
    },
    "papermill": {
     "duration": 0.180578,
     "end_time": "2022-01-04T19:58:38.470629",
     "exception": false,
     "start_time": "2022-01-04T19:58:38.290051",
     "status": "completed"
    },
    "tags": []
   },
   "outputs": [
    {
     "name": "stdout",
     "output_type": "stream",
     "text": [
      "tensor([[-1.0045,  0.2931, -1.2200],\n",
      "        [ 0.8455,  1.3520, -0.8244]], requires_grad=True)\n",
      "tensor([[-16983.5723, -18277.6172, -11416.6172],\n",
      "        [  4392.5410,   4159.3086,   2483.1233]])\n"
     ]
    }
   ],
   "source": [
    "# Gradients for weights\n",
    "print(w)\n",
    "print(w.grad)"
   ]
  },
  {
   "cell_type": "markdown",
   "id": "a3f5e547",
   "metadata": {
    "papermill": {
     "duration": 0.169292,
     "end_time": "2022-01-04T19:58:38.809701",
     "exception": false,
     "start_time": "2022-01-04T19:58:38.640409",
     "status": "completed"
    },
    "tags": []
   },
   "source": [
    "## Adjust weights and biases to reduce the loss\n",
    "\n",
    "The loss is a [quadratic function](https://en.wikipedia.org/wiki/Quadratic_function) of our weights and biases, and our objective is to find the set of weights where the loss is the lowest. If we plot a graph of the loss w.r.t any individual weight or bias element, it will look like the figure shown below. An important insight from calculus is that the gradient indicates the rate of change of the loss, i.e., the loss function's [slope](https://en.wikipedia.org/wiki/Slope) w.r.t. the weights and biases.\n",
    "\n",
    "If a gradient element is **positive**:\n",
    "\n",
    "* **increasing** the weight element's value slightly will **increase** the loss\n",
    "* **decreasing** the weight element's value slightly will **decrease** the loss\n",
    "\n",
    "![postive-gradient](https://i.imgur.com/WLzJ4xP.png)\n",
    "\n",
    "If a gradient element is **negative**:\n",
    "\n",
    "* **increasing** the weight element's value slightly will **decrease** the loss\n",
    "* **decreasing** the weight element's value slightly will **increase** the loss\n",
    "\n",
    "![negative=gradient](https://i.imgur.com/dvG2fxU.png)\n",
    "\n",
    "The increase or decrease in the loss by changing a weight element is proportional to the gradient of the loss w.r.t. that element. This observation forms the basis of _the gradient descent_ optimization algorithm that we'll use to improve our model (by _descending_ along the _gradient_).\n",
    "\n",
    "We can subtract from each weight element a small quantity proportional to the derivative of the loss w.r.t. that element to reduce the loss slightly."
   ]
  },
  {
   "cell_type": "code",
   "execution_count": 15,
   "id": "f8022e18",
   "metadata": {
    "execution": {
     "iopub.execute_input": "2022-01-04T19:58:39.157616Z",
     "iopub.status.busy": "2022-01-04T19:58:39.156942Z",
     "iopub.status.idle": "2022-01-04T19:58:39.162910Z",
     "shell.execute_reply": "2022-01-04T19:58:39.163373Z",
     "shell.execute_reply.started": "2022-01-04T19:26:56.746532Z"
    },
    "papermill": {
     "duration": 0.181417,
     "end_time": "2022-01-04T19:58:39.163549",
     "exception": false,
     "start_time": "2022-01-04T19:58:38.982132",
     "status": "completed"
    },
    "tags": []
   },
   "outputs": [
    {
     "data": {
      "text/plain": [
       "tensor([[-16983.5723, -18277.6172, -11416.6172],\n",
       "        [  4392.5410,   4159.3086,   2483.1233]])"
      ]
     },
     "execution_count": 15,
     "metadata": {},
     "output_type": "execute_result"
    }
   ],
   "source": [
    "w\n",
    "w.grad"
   ]
  },
  {
   "cell_type": "code",
   "execution_count": 16,
   "id": "2e4df413",
   "metadata": {
    "execution": {
     "iopub.execute_input": "2022-01-04T19:58:39.508374Z",
     "iopub.status.busy": "2022-01-04T19:58:39.507317Z",
     "iopub.status.idle": "2022-01-04T19:58:39.509830Z",
     "shell.execute_reply": "2022-01-04T19:58:39.509252Z",
     "shell.execute_reply.started": "2022-01-04T19:29:25.198584Z"
    },
    "papermill": {
     "duration": 0.177075,
     "end_time": "2022-01-04T19:58:39.509968",
     "exception": false,
     "start_time": "2022-01-04T19:58:39.332893",
     "status": "completed"
    },
    "tags": []
   },
   "outputs": [],
   "source": [
    "with torch.no_grad():\n",
    "    w -= w.grad * 1e-5\n",
    "    b -= b.grad * 1e-5"
   ]
  },
  {
   "cell_type": "markdown",
   "id": "7ed61d25",
   "metadata": {
    "papermill": {
     "duration": 0.168787,
     "end_time": "2022-01-04T19:58:39.848566",
     "exception": false,
     "start_time": "2022-01-04T19:58:39.679779",
     "status": "completed"
    },
    "tags": []
   },
   "source": [
    "We multiply the gradients with a very small number (`10^-5` in this case) to ensure that we don't modify the weights by a very large amount. We want to take a small step in the downhill direction of the gradient, not a giant leap. This number is called the *learning rate* of the algorithm. \n",
    "\n",
    "We use `torch.no_grad` to indicate to PyTorch that we shouldn't track, calculate, or modify gradients while updating the weights and biases."
   ]
  },
  {
   "cell_type": "code",
   "execution_count": 17,
   "id": "ac73d34f",
   "metadata": {
    "execution": {
     "iopub.execute_input": "2022-01-04T19:58:40.197245Z",
     "iopub.status.busy": "2022-01-04T19:58:40.196227Z",
     "iopub.status.idle": "2022-01-04T19:58:40.201376Z",
     "shell.execute_reply": "2022-01-04T19:58:40.202041Z",
     "shell.execute_reply.started": "2022-01-04T19:31:11.022571Z"
    },
    "papermill": {
     "duration": 0.181126,
     "end_time": "2022-01-04T19:58:40.202266",
     "exception": false,
     "start_time": "2022-01-04T19:58:40.021140",
     "status": "completed"
    },
    "tags": []
   },
   "outputs": [
    {
     "name": "stdout",
     "output_type": "stream",
     "text": [
      "tensor(15373.7158, grad_fn=<DivBackward0>)\n"
     ]
    }
   ],
   "source": [
    "# Let's verify that the loss is actually lower\n",
    "preds = model(inputs)\n",
    "loss = mse(preds, targets)\n",
    "print(loss)"
   ]
  },
  {
   "cell_type": "markdown",
   "id": "0fdfde0e",
   "metadata": {
    "papermill": {
     "duration": 0.168172,
     "end_time": "2022-01-04T19:58:40.539941",
     "exception": false,
     "start_time": "2022-01-04T19:58:40.371769",
     "status": "completed"
    },
    "tags": []
   },
   "source": [
    "Before we proceed, we reset the gradients to zero by invoking the `.zero_()` method. We need to do this because PyTorch accumulates gradients. Otherwise, the next time we invoke `.backward` on the loss, the new gradient values are added to the existing gradients, which may lead to unexpected results."
   ]
  },
  {
   "cell_type": "code",
   "execution_count": 18,
   "id": "96289c45",
   "metadata": {
    "execution": {
     "iopub.execute_input": "2022-01-04T19:58:40.884893Z",
     "iopub.status.busy": "2022-01-04T19:58:40.883851Z",
     "iopub.status.idle": "2022-01-04T19:58:40.887863Z",
     "shell.execute_reply": "2022-01-04T19:58:40.888359Z",
     "shell.execute_reply.started": "2022-01-04T19:31:27.320283Z"
    },
    "papermill": {
     "duration": 0.179501,
     "end_time": "2022-01-04T19:58:40.888535",
     "exception": false,
     "start_time": "2022-01-04T19:58:40.709034",
     "status": "completed"
    },
    "tags": []
   },
   "outputs": [
    {
     "name": "stdout",
     "output_type": "stream",
     "text": [
      "tensor([[0., 0., 0.],\n",
      "        [0., 0., 0.]])\n",
      "tensor([0., 0.])\n"
     ]
    }
   ],
   "source": [
    "w.grad.zero_()\n",
    "b.grad.zero_()\n",
    "print(w.grad)\n",
    "print(b.grad)"
   ]
  },
  {
   "cell_type": "markdown",
   "id": "01bf7ddf",
   "metadata": {
    "papermill": {
     "duration": 0.170455,
     "end_time": "2022-01-04T19:58:41.231220",
     "exception": false,
     "start_time": "2022-01-04T19:58:41.060765",
     "status": "completed"
    },
    "tags": []
   },
   "source": [
    "## Train the model using gradient descent\n",
    "\n",
    "As seen above, we reduce the loss and improve our model using the gradient descent optimization algorithm. Thus, we can _train_ the model using the following steps:\n",
    "\n",
    "1. Generate predictions\n",
    "\n",
    "2. Calculate the loss\n",
    "\n",
    "3. Compute gradients w.r.t the weights and biases\n",
    "\n",
    "4. Adjust the weights by subtracting a small quantity proportional to the gradient\n",
    "\n",
    "5. Reset the gradients to zero\n",
    "\n",
    "Let's implement the above step by step."
   ]
  },
  {
   "cell_type": "code",
   "execution_count": 19,
   "id": "fe7a8006",
   "metadata": {
    "execution": {
     "iopub.execute_input": "2022-01-04T19:58:41.575456Z",
     "iopub.status.busy": "2022-01-04T19:58:41.574497Z",
     "iopub.status.idle": "2022-01-04T19:58:41.580831Z",
     "shell.execute_reply": "2022-01-04T19:58:41.581654Z",
     "shell.execute_reply.started": "2022-01-04T19:31:40.994113Z"
    },
    "papermill": {
     "duration": 0.180015,
     "end_time": "2022-01-04T19:58:41.581916",
     "exception": false,
     "start_time": "2022-01-04T19:58:41.401901",
     "status": "completed"
    },
    "tags": []
   },
   "outputs": [
    {
     "name": "stdout",
     "output_type": "stream",
     "text": [
      "tensor([[ -76.7947,  108.9567],\n",
      "        [-105.0478,  133.0704],\n",
      "        [ -73.1857,  195.2357],\n",
      "        [-105.7854,  105.8500],\n",
      "        [ -89.5133,  120.8227]], grad_fn=<AddBackward0>)\n"
     ]
    }
   ],
   "source": [
    "# Generate predictions\n",
    "preds = model(inputs)\n",
    "print(preds)"
   ]
  },
  {
   "cell_type": "code",
   "execution_count": 20,
   "id": "dda94e12",
   "metadata": {
    "execution": {
     "iopub.execute_input": "2022-01-04T19:58:41.932598Z",
     "iopub.status.busy": "2022-01-04T19:58:41.931594Z",
     "iopub.status.idle": "2022-01-04T19:58:41.937790Z",
     "shell.execute_reply": "2022-01-04T19:58:41.938430Z",
     "shell.execute_reply.started": "2022-01-04T19:31:43.796994Z"
    },
    "papermill": {
     "duration": 0.186086,
     "end_time": "2022-01-04T19:58:41.938606",
     "exception": false,
     "start_time": "2022-01-04T19:58:41.752520",
     "status": "completed"
    },
    "tags": []
   },
   "outputs": [
    {
     "name": "stdout",
     "output_type": "stream",
     "text": [
      "tensor(15373.7158, grad_fn=<DivBackward0>)\n"
     ]
    }
   ],
   "source": [
    "# Calculate the loss\n",
    "loss = mse(preds, targets)\n",
    "print(loss)"
   ]
  },
  {
   "cell_type": "code",
   "execution_count": 21,
   "id": "26ffbafb",
   "metadata": {
    "execution": {
     "iopub.execute_input": "2022-01-04T19:58:42.282572Z",
     "iopub.status.busy": "2022-01-04T19:58:42.281550Z",
     "iopub.status.idle": "2022-01-04T19:58:42.288937Z",
     "shell.execute_reply": "2022-01-04T19:58:42.289774Z",
     "shell.execute_reply.started": "2022-01-04T19:31:46.842130Z"
    },
    "papermill": {
     "duration": 0.181589,
     "end_time": "2022-01-04T19:58:42.290026",
     "exception": false,
     "start_time": "2022-01-04T19:58:42.108437",
     "status": "completed"
    },
    "tags": []
   },
   "outputs": [
    {
     "name": "stdout",
     "output_type": "stream",
     "text": [
      "tensor([[-13932.4121, -14999.6797,  -9393.5996],\n",
      "        [  3665.0442,   3381.4817,   2002.4708]])\n",
      "tensor([-166.2654,   40.7871])\n"
     ]
    }
   ],
   "source": [
    "# Compute gradients\n",
    "loss.backward()\n",
    "print(w.grad)\n",
    "print(b.grad)"
   ]
  },
  {
   "cell_type": "markdown",
   "id": "9dd31357",
   "metadata": {
    "papermill": {
     "duration": 0.170118,
     "end_time": "2022-01-04T19:58:42.631744",
     "exception": false,
     "start_time": "2022-01-04T19:58:42.461626",
     "status": "completed"
    },
    "tags": []
   },
   "source": [
    "Let's update the weights and biases using the gradients computed above."
   ]
  },
  {
   "cell_type": "code",
   "execution_count": 22,
   "id": "87ee165d",
   "metadata": {
    "execution": {
     "iopub.execute_input": "2022-01-04T19:58:42.978264Z",
     "iopub.status.busy": "2022-01-04T19:58:42.977152Z",
     "iopub.status.idle": "2022-01-04T19:58:42.983387Z",
     "shell.execute_reply": "2022-01-04T19:58:42.983948Z",
     "shell.execute_reply.started": "2022-01-04T19:32:55.686823Z"
    },
    "papermill": {
     "duration": 0.181696,
     "end_time": "2022-01-04T19:58:42.984131",
     "exception": false,
     "start_time": "2022-01-04T19:58:42.802435",
     "status": "completed"
    },
    "tags": []
   },
   "outputs": [],
   "source": [
    "# Adjust weights & reset gradients\n",
    "with torch.no_grad():\n",
    "    w -= w.grad * 1e-5\n",
    "    b -= b.grad * 1e-5\n",
    "    w.grad.zero_()\n",
    "    b.grad.zero_()"
   ]
  },
  {
   "cell_type": "markdown",
   "id": "1f013b59",
   "metadata": {
    "papermill": {
     "duration": 0.169683,
     "end_time": "2022-01-04T19:58:43.324373",
     "exception": false,
     "start_time": "2022-01-04T19:58:43.154690",
     "status": "completed"
    },
    "tags": []
   },
   "source": [
    "Let's take a look at the new weights and biases."
   ]
  },
  {
   "cell_type": "code",
   "execution_count": 23,
   "id": "b835881d",
   "metadata": {
    "execution": {
     "iopub.execute_input": "2022-01-04T19:58:43.670450Z",
     "iopub.status.busy": "2022-01-04T19:58:43.668828Z",
     "iopub.status.idle": "2022-01-04T19:58:43.677454Z",
     "shell.execute_reply": "2022-01-04T19:58:43.678322Z",
     "shell.execute_reply.started": "2022-01-04T19:32:57.877111Z"
    },
    "papermill": {
     "duration": 0.183055,
     "end_time": "2022-01-04T19:58:43.678554",
     "exception": false,
     "start_time": "2022-01-04T19:58:43.495499",
     "status": "completed"
    },
    "tags": []
   },
   "outputs": [
    {
     "name": "stdout",
     "output_type": "stream",
     "text": [
      "tensor([[-0.6953,  0.6258, -1.0119],\n",
      "        [ 0.7650,  1.2765, -0.8692]], requires_grad=True)\n",
      "tensor([-0.1945, -0.8406], requires_grad=True)\n"
     ]
    }
   ],
   "source": [
    "print(w)\n",
    "print(b)"
   ]
  },
  {
   "cell_type": "markdown",
   "id": "c2d10c36",
   "metadata": {
    "papermill": {
     "duration": 0.170241,
     "end_time": "2022-01-04T19:58:44.019484",
     "exception": false,
     "start_time": "2022-01-04T19:58:43.849243",
     "status": "completed"
    },
    "tags": []
   },
   "source": [
    "With the new weights and biases, the model should have a lower loss."
   ]
  },
  {
   "cell_type": "code",
   "execution_count": 24,
   "id": "a3bc0534",
   "metadata": {
    "execution": {
     "iopub.execute_input": "2022-01-04T19:58:44.369959Z",
     "iopub.status.busy": "2022-01-04T19:58:44.367710Z",
     "iopub.status.idle": "2022-01-04T19:58:44.374560Z",
     "shell.execute_reply": "2022-01-04T19:58:44.375098Z",
     "shell.execute_reply.started": "2022-01-04T19:33:34.183687Z"
    },
    "papermill": {
     "duration": 0.182214,
     "end_time": "2022-01-04T19:58:44.375277",
     "exception": false,
     "start_time": "2022-01-04T19:58:44.193063",
     "status": "completed"
    },
    "tags": []
   },
   "outputs": [
    {
     "name": "stdout",
     "output_type": "stream",
     "text": [
      "tensor(10491.2432, grad_fn=<DivBackward0>)\n"
     ]
    }
   ],
   "source": [
    "# Calculate loss\n",
    "preds = model(inputs)\n",
    "loss = mse(preds, targets)\n",
    "print(loss)"
   ]
  },
  {
   "cell_type": "markdown",
   "id": "02411a71",
   "metadata": {
    "papermill": {
     "duration": 0.173425,
     "end_time": "2022-01-04T19:58:44.721520",
     "exception": false,
     "start_time": "2022-01-04T19:58:44.548095",
     "status": "completed"
    },
    "tags": []
   },
   "source": [
    "We have already achieved a significant reduction in the loss merely by adjusting the weights and biases slightly using gradient descent."
   ]
  },
  {
   "cell_type": "markdown",
   "id": "9d31c279",
   "metadata": {
    "papermill": {
     "duration": 0.173001,
     "end_time": "2022-01-04T19:58:45.067354",
     "exception": false,
     "start_time": "2022-01-04T19:58:44.894353",
     "status": "completed"
    },
    "tags": []
   },
   "source": [
    "## Train for multiple epochs\n",
    "\n",
    "To reduce the loss further, we can repeat the process of adjusting the weights and biases using the gradients multiple times. Each iteration is called an _epoch_. Let's train the model for 100 epochs."
   ]
  },
  {
   "cell_type": "code",
   "execution_count": 25,
   "id": "489c52b5",
   "metadata": {
    "execution": {
     "iopub.execute_input": "2022-01-04T19:58:45.413934Z",
     "iopub.status.busy": "2022-01-04T19:58:45.412929Z",
     "iopub.status.idle": "2022-01-04T19:58:45.439941Z",
     "shell.execute_reply": "2022-01-04T19:58:45.440528Z",
     "shell.execute_reply.started": "2022-01-04T19:36:05.393121Z"
    },
    "papermill": {
     "duration": 0.201497,
     "end_time": "2022-01-04T19:58:45.440697",
     "exception": false,
     "start_time": "2022-01-04T19:58:45.239200",
     "status": "completed"
    },
    "tags": []
   },
   "outputs": [],
   "source": [
    "# Train for 100 epochs\n",
    "for i in range(100):\n",
    "    preds = model(inputs)\n",
    "    loss = mse(preds, targets)\n",
    "    loss.backward()\n",
    "    with torch.no_grad():\n",
    "        w -= w.grad * 1e-5\n",
    "        b -= b.grad * 1e-5\n",
    "        w.grad.zero_()\n",
    "        b.grad.zero_()"
   ]
  },
  {
   "cell_type": "markdown",
   "id": "964fcd59",
   "metadata": {
    "papermill": {
     "duration": 0.198031,
     "end_time": "2022-01-04T19:58:45.809584",
     "exception": false,
     "start_time": "2022-01-04T19:58:45.611553",
     "status": "completed"
    },
    "tags": []
   },
   "source": [
    "Once again, let's verify that the loss is now lower:"
   ]
  },
  {
   "cell_type": "code",
   "execution_count": 26,
   "id": "9430bfd5",
   "metadata": {
    "execution": {
     "iopub.execute_input": "2022-01-04T19:58:46.157826Z",
     "iopub.status.busy": "2022-01-04T19:58:46.156739Z",
     "iopub.status.idle": "2022-01-04T19:58:46.161929Z",
     "shell.execute_reply": "2022-01-04T19:58:46.161371Z",
     "shell.execute_reply.started": "2022-01-04T19:36:08.351817Z"
    },
    "papermill": {
     "duration": 0.180609,
     "end_time": "2022-01-04T19:58:46.162077",
     "exception": false,
     "start_time": "2022-01-04T19:58:45.981468",
     "status": "completed"
    },
    "tags": []
   },
   "outputs": [
    {
     "name": "stdout",
     "output_type": "stream",
     "text": [
      "tensor(269.6603, grad_fn=<DivBackward0>)\n"
     ]
    }
   ],
   "source": [
    "# Calculate loss\n",
    "preds = model(inputs)\n",
    "loss = mse(preds, targets)\n",
    "print(loss)"
   ]
  },
  {
   "cell_type": "markdown",
   "id": "92480ba3",
   "metadata": {
    "papermill": {
     "duration": 0.172399,
     "end_time": "2022-01-04T19:58:46.509478",
     "exception": false,
     "start_time": "2022-01-04T19:58:46.337079",
     "status": "completed"
    },
    "tags": []
   },
   "source": [
    "The loss is now much lower than its initial value. Let's look at the model's predictions and compare them with the targets."
   ]
  },
  {
   "cell_type": "code",
   "execution_count": 27,
   "id": "f834b3fe",
   "metadata": {
    "execution": {
     "iopub.execute_input": "2022-01-04T19:58:46.861051Z",
     "iopub.status.busy": "2022-01-04T19:58:46.860096Z",
     "iopub.status.idle": "2022-01-04T19:58:46.865881Z",
     "shell.execute_reply": "2022-01-04T19:58:46.866376Z",
     "shell.execute_reply.started": "2022-01-04T19:36:11.891219Z"
    },
    "papermill": {
     "duration": 0.1842,
     "end_time": "2022-01-04T19:58:46.866543",
     "exception": false,
     "start_time": "2022-01-04T19:58:46.682343",
     "status": "completed"
    },
    "tags": []
   },
   "outputs": [
    {
     "data": {
      "text/plain": [
       "tensor([[ 58.3915,  74.2591],\n",
       "        [ 73.6933,  90.1783],\n",
       "        [136.0837, 150.4671],\n",
       "        [ 27.4497,  59.4679],\n",
       "        [ 83.3564,  87.6166]], grad_fn=<AddBackward0>)"
      ]
     },
     "execution_count": 27,
     "metadata": {},
     "output_type": "execute_result"
    }
   ],
   "source": [
    "# Predictions\n",
    "preds"
   ]
  },
  {
   "cell_type": "code",
   "execution_count": 28,
   "id": "02820954",
   "metadata": {
    "execution": {
     "iopub.execute_input": "2022-01-04T19:58:47.215554Z",
     "iopub.status.busy": "2022-01-04T19:58:47.214615Z",
     "iopub.status.idle": "2022-01-04T19:58:47.221601Z",
     "shell.execute_reply": "2022-01-04T19:58:47.220996Z",
     "shell.execute_reply.started": "2022-01-04T19:36:15.327048Z"
    },
    "papermill": {
     "duration": 0.18256,
     "end_time": "2022-01-04T19:58:47.221739",
     "exception": false,
     "start_time": "2022-01-04T19:58:47.039179",
     "status": "completed"
    },
    "tags": []
   },
   "outputs": [
    {
     "data": {
      "text/plain": [
       "tensor([[ 56.,  70.],\n",
       "        [ 81., 101.],\n",
       "        [119., 133.],\n",
       "        [ 22.,  37.],\n",
       "        [103., 119.]])"
      ]
     },
     "execution_count": 28,
     "metadata": {},
     "output_type": "execute_result"
    }
   ],
   "source": [
    "# Targets\n",
    "targets"
   ]
  },
  {
   "cell_type": "markdown",
   "id": "12053b30",
   "metadata": {
    "papermill": {
     "duration": 0.172263,
     "end_time": "2022-01-04T19:58:47.565851",
     "exception": false,
     "start_time": "2022-01-04T19:58:47.393588",
     "status": "completed"
    },
    "tags": []
   },
   "source": [
    "The predictions are now quite close to the target variables. We can get even better results by training for a few more epochs. "
   ]
  },
  {
   "cell_type": "markdown",
   "id": "2c07d0cb",
   "metadata": {
    "papermill": {
     "duration": 0.172999,
     "end_time": "2022-01-04T19:58:47.916271",
     "exception": false,
     "start_time": "2022-01-04T19:58:47.743272",
     "status": "completed"
    },
    "tags": []
   },
   "source": [
    "## Save and upload your notebook\n",
    "\n",
    "Whether you're running this Jupyter notebook online or on your computer, it's essential to save your work from time to time. You can continue working on a saved notebook later or share it with friends and colleagues to let them execute your code. [Jovian](https://jovian.ai/platform-features) offers an easy way of saving and sharing your Jupyter notebooks online.\n",
    "\n",
    "First, you need to install the Jovian python library if it isn't already installed."
   ]
  },
  {
   "cell_type": "code",
   "execution_count": 29,
   "id": "dc525c75",
   "metadata": {
    "execution": {
     "iopub.execute_input": "2022-01-04T19:58:48.276240Z",
     "iopub.status.busy": "2022-01-04T19:58:48.270447Z",
     "iopub.status.idle": "2022-01-04T19:58:59.582867Z",
     "shell.execute_reply": "2022-01-04T19:58:59.581951Z",
     "shell.execute_reply.started": "2022-01-04T19:37:02.336623Z"
    },
    "papermill": {
     "duration": 11.491718,
     "end_time": "2022-01-04T19:58:59.583019",
     "exception": false,
     "start_time": "2022-01-04T19:58:48.091301",
     "status": "completed"
    },
    "tags": []
   },
   "outputs": [
    {
     "name": "stdout",
     "output_type": "stream",
     "text": [
      "\u001b[33mWARNING: Running pip as the 'root' user can result in broken permissions and conflicting behaviour with the system package manager. It is recommended to use a virtual environment instead: https://pip.pypa.io/warnings/venv\u001b[0m\r\n"
     ]
    }
   ],
   "source": [
    "!pip install jovian --upgrade -q"
   ]
  },
  {
   "cell_type": "code",
   "execution_count": 30,
   "id": "bd0416b0",
   "metadata": {
    "execution": {
     "iopub.execute_input": "2022-01-04T19:58:59.973114Z",
     "iopub.status.busy": "2022-01-04T19:58:59.972093Z",
     "iopub.status.idle": "2022-01-04T19:59:00.125063Z",
     "shell.execute_reply": "2022-01-04T19:59:00.125593Z",
     "shell.execute_reply.started": "2022-01-04T19:37:13.416531Z"
    },
    "papermill": {
     "duration": 0.363754,
     "end_time": "2022-01-04T19:59:00.125766",
     "exception": false,
     "start_time": "2022-01-04T19:58:59.762012",
     "status": "completed"
    },
    "tags": []
   },
   "outputs": [
    {
     "data": {
      "application/javascript": [
       "if (window.IPython && IPython.notebook.kernel) IPython.notebook.kernel.execute('jovian.utils.jupyter.get_notebook_name_saved = lambda: \"' + IPython.notebook.notebook_name + '\"')"
      ],
      "text/plain": [
       "<IPython.core.display.Javascript object>"
      ]
     },
     "metadata": {},
     "output_type": "display_data"
    }
   ],
   "source": [
    "import jovian"
   ]
  },
  {
   "cell_type": "code",
   "execution_count": 31,
   "id": "2cb39c3e",
   "metadata": {
    "execution": {
     "iopub.execute_input": "2022-01-04T19:59:00.481590Z",
     "iopub.status.busy": "2022-01-04T19:59:00.480934Z",
     "iopub.status.idle": "2022-01-04T19:59:01.588705Z",
     "shell.execute_reply": "2022-01-04T19:59:01.589322Z",
     "shell.execute_reply.started": "2022-01-04T19:37:13.711060Z"
    },
    "papermill": {
     "duration": 1.290773,
     "end_time": "2022-01-04T19:59:01.589501",
     "exception": false,
     "start_time": "2022-01-04T19:59:00.298728",
     "status": "completed"
    },
    "tags": []
   },
   "outputs": [
    {
     "data": {
      "application/javascript": [
       "window.require && require([\"base/js/namespace\"],function(Jupyter){Jupyter.notebook.save_checkpoint()})"
      ],
      "text/plain": [
       "<IPython.core.display.Javascript object>"
      ]
     },
     "metadata": {},
     "output_type": "display_data"
    },
    {
     "data": {
      "application/javascript": [
       "if (window.IPython && IPython.notebook.kernel) IPython.notebook.kernel.execute('jovian.utils.jupyter.get_notebook_name_saved = lambda: \"' + IPython.notebook.notebook_name + '\"')"
      ],
      "text/plain": [
       "<IPython.core.display.Javascript object>"
      ]
     },
     "metadata": {},
     "output_type": "display_data"
    },
    {
     "name": "stderr",
     "output_type": "stream",
     "text": [
      "\u001b[31m[jovian] Error: Failed to read the Jupyter notebook. Please re-run this cell to try again. If the issue persists, provide the \"filename\" argument to \"jovian.commit\" e.g. \"jovian.commit(filename='my-notebook.ipynb')\"\u001b[0m\n"
     ]
    }
   ],
   "source": [
    "jovian.commit(project='02-linear-regression')"
   ]
  },
  {
   "cell_type": "markdown",
   "id": "0690af11",
   "metadata": {
    "papermill": {
     "duration": 0.174995,
     "end_time": "2022-01-04T19:59:01.939220",
     "exception": false,
     "start_time": "2022-01-04T19:59:01.764225",
     "status": "completed"
    },
    "tags": []
   },
   "source": [
    "`jovian.commit` uploads the notebook to your Jovian account, captures the Python environment, and creates a shareable link for your notebook, as shown above. You can use this link to share your work and let anyone (including you) run your notebooks and reproduce your work.\n",
    "\n",
    "> The first time you run `jovian.commit`, you may be asked to provide an _API Key_ to securely upload the notebook to your Jovian account. You can get the API key from your [Jovian profile page](https://jovian.ai) after logging in / signing up.\n",
    "\n"
   ]
  },
  {
   "cell_type": "markdown",
   "id": "73b3ac5d",
   "metadata": {
    "papermill": {
     "duration": 0.175643,
     "end_time": "2022-01-04T19:59:02.289970",
     "exception": false,
     "start_time": "2022-01-04T19:59:02.114327",
     "status": "completed"
    },
    "tags": []
   },
   "source": [
    "## Linear regression using PyTorch built-ins\n",
    "\n",
    "We've implemented linear regression & gradient descent model using some basic tensor operations. However, since this is a common pattern in deep learning, PyTorch provides several built-in functions and classes to make it easy to create and train models with just a few lines of code.\n",
    "\n",
    "Let's begin by importing the `torch.nn` package from PyTorch, which contains utility classes for building neural networks."
   ]
  },
  {
   "cell_type": "code",
   "execution_count": 32,
   "id": "4b3e7d16",
   "metadata": {
    "execution": {
     "iopub.execute_input": "2022-01-04T19:59:02.644565Z",
     "iopub.status.busy": "2022-01-04T19:59:02.643530Z",
     "iopub.status.idle": "2022-01-04T19:59:02.647485Z",
     "shell.execute_reply": "2022-01-04T19:59:02.648052Z",
     "shell.execute_reply.started": "2022-01-04T19:38:40.917797Z"
    },
    "papermill": {
     "duration": 0.182464,
     "end_time": "2022-01-04T19:59:02.648226",
     "exception": false,
     "start_time": "2022-01-04T19:59:02.465762",
     "status": "completed"
    },
    "tags": []
   },
   "outputs": [],
   "source": [
    "import torch.nn as nn"
   ]
  },
  {
   "cell_type": "markdown",
   "id": "7ae61be2",
   "metadata": {
    "papermill": {
     "duration": 0.174046,
     "end_time": "2022-01-04T19:59:02.998655",
     "exception": false,
     "start_time": "2022-01-04T19:59:02.824609",
     "status": "completed"
    },
    "tags": []
   },
   "source": [
    "As before, we represent the inputs and targets and matrices."
   ]
  },
  {
   "cell_type": "code",
   "execution_count": 33,
   "id": "1718fdd9",
   "metadata": {
    "execution": {
     "iopub.execute_input": "2022-01-04T19:59:03.350156Z",
     "iopub.status.busy": "2022-01-04T19:59:03.349167Z",
     "iopub.status.idle": "2022-01-04T19:59:03.359017Z",
     "shell.execute_reply": "2022-01-04T19:59:03.359462Z",
     "shell.execute_reply.started": "2022-01-04T19:38:44.052649Z"
    },
    "papermill": {
     "duration": 0.186597,
     "end_time": "2022-01-04T19:59:03.359633",
     "exception": false,
     "start_time": "2022-01-04T19:59:03.173036",
     "status": "completed"
    },
    "tags": []
   },
   "outputs": [],
   "source": [
    "# Input (temp, rainfall, humidity)\n",
    "inputs = np.array([[73, 67, 43], \n",
    "                   [91, 88, 64], \n",
    "                   [87, 134, 58], \n",
    "                   [102, 43, 37], \n",
    "                   [69, 96, 70], \n",
    "                   [74, 66, 43], \n",
    "                   [91, 87, 65], \n",
    "                   [88, 134, 59], \n",
    "                   [101, 44, 37], \n",
    "                   [68, 96, 71], \n",
    "                   [73, 66, 44], \n",
    "                   [92, 87, 64], \n",
    "                   [87, 135, 57], \n",
    "                   [103, 43, 36], \n",
    "                   [68, 97, 70]], \n",
    "                  dtype='float32')\n",
    "\n",
    "# Targets (apples, oranges)\n",
    "targets = np.array([[56, 70], \n",
    "                    [81, 101], \n",
    "                    [119, 133], \n",
    "                    [22, 37], \n",
    "                    [103, 119],\n",
    "                    [57, 69], \n",
    "                    [80, 102], \n",
    "                    [118, 132], \n",
    "                    [21, 38], \n",
    "                    [104, 118], \n",
    "                    [57, 69], \n",
    "                    [82, 100], \n",
    "                    [118, 134], \n",
    "                    [20, 38], \n",
    "                    [102, 120]], \n",
    "                   dtype='float32')\n",
    "\n",
    "inputs = torch.from_numpy(inputs)\n",
    "targets = torch.from_numpy(targets)"
   ]
  },
  {
   "cell_type": "code",
   "execution_count": 34,
   "id": "5ca0e1f1",
   "metadata": {
    "execution": {
     "iopub.execute_input": "2022-01-04T19:59:03.712459Z",
     "iopub.status.busy": "2022-01-04T19:59:03.711510Z",
     "iopub.status.idle": "2022-01-04T19:59:03.718585Z",
     "shell.execute_reply": "2022-01-04T19:59:03.719049Z",
     "shell.execute_reply.started": "2022-01-04T19:38:51.334000Z"
    },
    "papermill": {
     "duration": 0.184927,
     "end_time": "2022-01-04T19:59:03.719219",
     "exception": false,
     "start_time": "2022-01-04T19:59:03.534292",
     "status": "completed"
    },
    "tags": []
   },
   "outputs": [
    {
     "data": {
      "text/plain": [
       "tensor([[ 73.,  67.,  43.],\n",
       "        [ 91.,  88.,  64.],\n",
       "        [ 87., 134.,  58.],\n",
       "        [102.,  43.,  37.],\n",
       "        [ 69.,  96.,  70.],\n",
       "        [ 74.,  66.,  43.],\n",
       "        [ 91.,  87.,  65.],\n",
       "        [ 88., 134.,  59.],\n",
       "        [101.,  44.,  37.],\n",
       "        [ 68.,  96.,  71.],\n",
       "        [ 73.,  66.,  44.],\n",
       "        [ 92.,  87.,  64.],\n",
       "        [ 87., 135.,  57.],\n",
       "        [103.,  43.,  36.],\n",
       "        [ 68.,  97.,  70.]])"
      ]
     },
     "execution_count": 34,
     "metadata": {},
     "output_type": "execute_result"
    }
   ],
   "source": [
    "inputs"
   ]
  },
  {
   "cell_type": "markdown",
   "id": "6cbe65be",
   "metadata": {
    "papermill": {
     "duration": 0.173755,
     "end_time": "2022-01-04T19:59:04.068534",
     "exception": false,
     "start_time": "2022-01-04T19:59:03.894779",
     "status": "completed"
    },
    "tags": []
   },
   "source": [
    "We are using 15 training examples to illustrate how to work with large datasets in small batches. "
   ]
  },
  {
   "cell_type": "markdown",
   "id": "0b46f1d4",
   "metadata": {
    "papermill": {
     "duration": 0.180761,
     "end_time": "2022-01-04T19:59:04.427022",
     "exception": false,
     "start_time": "2022-01-04T19:59:04.246261",
     "status": "completed"
    },
    "tags": []
   },
   "source": [
    "## Dataset and DataLoader\n",
    "\n",
    "We'll create a `TensorDataset`, which allows access to rows from `inputs` and `targets` as tuples, and provides standard APIs for working with many different types of datasets in PyTorch."
   ]
  },
  {
   "cell_type": "code",
   "execution_count": 35,
   "id": "95350a8c",
   "metadata": {
    "execution": {
     "iopub.execute_input": "2022-01-04T19:59:04.783663Z",
     "iopub.status.busy": "2022-01-04T19:59:04.782610Z",
     "iopub.status.idle": "2022-01-04T19:59:04.785525Z",
     "shell.execute_reply": "2022-01-04T19:59:04.784916Z",
     "shell.execute_reply.started": "2022-01-04T19:38:56.422588Z"
    },
    "papermill": {
     "duration": 0.182967,
     "end_time": "2022-01-04T19:59:04.785667",
     "exception": false,
     "start_time": "2022-01-04T19:59:04.602700",
     "status": "completed"
    },
    "tags": []
   },
   "outputs": [],
   "source": [
    "from torch.utils.data import TensorDataset"
   ]
  },
  {
   "cell_type": "code",
   "execution_count": 36,
   "id": "59d92a38",
   "metadata": {
    "execution": {
     "iopub.execute_input": "2022-01-04T19:59:05.142617Z",
     "iopub.status.busy": "2022-01-04T19:59:05.141618Z",
     "iopub.status.idle": "2022-01-04T19:59:05.148997Z",
     "shell.execute_reply": "2022-01-04T19:59:05.149549Z",
     "shell.execute_reply.started": "2022-01-04T19:46:55.818790Z"
    },
    "papermill": {
     "duration": 0.187078,
     "end_time": "2022-01-04T19:59:05.149729",
     "exception": false,
     "start_time": "2022-01-04T19:59:04.962651",
     "status": "completed"
    },
    "tags": []
   },
   "outputs": [
    {
     "data": {
      "text/plain": [
       "(tensor([[ 73.,  67.,  43.],\n",
       "         [ 91.,  88.,  64.],\n",
       "         [ 87., 134.,  58.]]),\n",
       " tensor([[ 56.,  70.],\n",
       "         [ 81., 101.],\n",
       "         [119., 133.]]))"
      ]
     },
     "execution_count": 36,
     "metadata": {},
     "output_type": "execute_result"
    }
   ],
   "source": [
    "# Define dataset\n",
    "train_ds = TensorDataset(inputs, targets)\n",
    "train_ds[0:3]"
   ]
  },
  {
   "cell_type": "markdown",
   "id": "992de828",
   "metadata": {
    "papermill": {
     "duration": 0.177287,
     "end_time": "2022-01-04T19:59:05.506535",
     "exception": false,
     "start_time": "2022-01-04T19:59:05.329248",
     "status": "completed"
    },
    "tags": []
   },
   "source": [
    "The `TensorDataset` allows us to access a small section of the training data using the array indexing notation (`[0:3]` in the above code). It returns a tuple with two elements. The first element contains the input variables for the selected rows, and the second contains the targets."
   ]
  },
  {
   "cell_type": "markdown",
   "id": "775de6e8",
   "metadata": {
    "papermill": {
     "duration": 0.174616,
     "end_time": "2022-01-04T19:59:05.859560",
     "exception": false,
     "start_time": "2022-01-04T19:59:05.684944",
     "status": "completed"
    },
    "tags": []
   },
   "source": [
    "We'll also create a `DataLoader`, which can split the data into batches of a predefined size while training. It also provides other utilities like shuffling and random sampling of the data."
   ]
  },
  {
   "cell_type": "code",
   "execution_count": 37,
   "id": "cae15fb9",
   "metadata": {
    "execution": {
     "iopub.execute_input": "2022-01-04T19:59:06.214342Z",
     "iopub.status.busy": "2022-01-04T19:59:06.213351Z",
     "iopub.status.idle": "2022-01-04T19:59:06.217031Z",
     "shell.execute_reply": "2022-01-04T19:59:06.217621Z",
     "shell.execute_reply.started": "2022-01-04T19:46:58.272449Z"
    },
    "papermill": {
     "duration": 0.182396,
     "end_time": "2022-01-04T19:59:06.217788",
     "exception": false,
     "start_time": "2022-01-04T19:59:06.035392",
     "status": "completed"
    },
    "tags": []
   },
   "outputs": [],
   "source": [
    "from torch.utils.data import DataLoader"
   ]
  },
  {
   "cell_type": "code",
   "execution_count": 38,
   "id": "72c57538",
   "metadata": {
    "execution": {
     "iopub.execute_input": "2022-01-04T19:59:06.574668Z",
     "iopub.status.busy": "2022-01-04T19:59:06.573689Z",
     "iopub.status.idle": "2022-01-04T19:59:06.577453Z",
     "shell.execute_reply": "2022-01-04T19:59:06.578064Z",
     "shell.execute_reply.started": "2022-01-04T19:46:58.745387Z"
    },
    "papermill": {
     "duration": 0.183816,
     "end_time": "2022-01-04T19:59:06.578239",
     "exception": false,
     "start_time": "2022-01-04T19:59:06.394423",
     "status": "completed"
    },
    "tags": []
   },
   "outputs": [],
   "source": [
    "# Define data loader\n",
    "batch_size = 5\n",
    "train_dl = DataLoader(train_ds, batch_size, shuffle=True)"
   ]
  },
  {
   "cell_type": "markdown",
   "id": "55318106",
   "metadata": {
    "papermill": {
     "duration": 0.175468,
     "end_time": "2022-01-04T19:59:06.930334",
     "exception": false,
     "start_time": "2022-01-04T19:59:06.754866",
     "status": "completed"
    },
    "tags": []
   },
   "source": [
    "We can use the data loader in a `for` loop. Let's look at an example."
   ]
  },
  {
   "cell_type": "code",
   "execution_count": 39,
   "id": "6fab2541",
   "metadata": {
    "execution": {
     "iopub.execute_input": "2022-01-04T19:59:07.285701Z",
     "iopub.status.busy": "2022-01-04T19:59:07.284713Z",
     "iopub.status.idle": "2022-01-04T19:59:07.292860Z",
     "shell.execute_reply": "2022-01-04T19:59:07.293412Z",
     "shell.execute_reply.started": "2022-01-04T19:46:59.747341Z"
    },
    "papermill": {
     "duration": 0.187825,
     "end_time": "2022-01-04T19:59:07.293592",
     "exception": false,
     "start_time": "2022-01-04T19:59:07.105767",
     "status": "completed"
    },
    "tags": []
   },
   "outputs": [
    {
     "name": "stdout",
     "output_type": "stream",
     "text": [
      "tensor([[ 91.,  88.,  64.],\n",
      "        [ 74.,  66.,  43.],\n",
      "        [ 91.,  87.,  65.],\n",
      "        [102.,  43.,  37.],\n",
      "        [101.,  44.,  37.]])\n",
      "tensor([[ 81., 101.],\n",
      "        [ 57.,  69.],\n",
      "        [ 80., 102.],\n",
      "        [ 22.,  37.],\n",
      "        [ 21.,  38.]])\n"
     ]
    }
   ],
   "source": [
    "for xb, yb in train_dl:\n",
    "    print(xb)\n",
    "    print(yb)\n",
    "    break"
   ]
  },
  {
   "cell_type": "markdown",
   "id": "d628e3fc",
   "metadata": {
    "papermill": {
     "duration": 0.178812,
     "end_time": "2022-01-04T19:59:07.648241",
     "exception": false,
     "start_time": "2022-01-04T19:59:07.469429",
     "status": "completed"
    },
    "tags": []
   },
   "source": [
    "In each iteration, the data loader returns one batch of data with the given batch size. If `shuffle` is set to `True`, it shuffles the training data before creating batches. Shuffling helps randomize the input to the optimization algorithm, leading to a faster reduction in the loss."
   ]
  },
  {
   "cell_type": "markdown",
   "id": "b2f6f05e",
   "metadata": {
    "papermill": {
     "duration": 0.176852,
     "end_time": "2022-01-04T19:59:08.033709",
     "exception": false,
     "start_time": "2022-01-04T19:59:07.856857",
     "status": "completed"
    },
    "tags": []
   },
   "source": [
    "## nn.Linear\n",
    "\n",
    "Instead of initializing the weights & biases manually, we can define the model using the `nn.Linear` class from PyTorch, which does it automatically."
   ]
  },
  {
   "cell_type": "code",
   "execution_count": 40,
   "id": "eff998c5",
   "metadata": {
    "execution": {
     "iopub.execute_input": "2022-01-04T19:59:08.389420Z",
     "iopub.status.busy": "2022-01-04T19:59:08.388391Z",
     "iopub.status.idle": "2022-01-04T19:59:08.396627Z",
     "shell.execute_reply": "2022-01-04T19:59:08.395908Z",
     "shell.execute_reply.started": "2022-01-04T19:47:01.232832Z"
    },
    "papermill": {
     "duration": 0.186871,
     "end_time": "2022-01-04T19:59:08.396855",
     "exception": false,
     "start_time": "2022-01-04T19:59:08.209984",
     "status": "completed"
    },
    "tags": []
   },
   "outputs": [
    {
     "name": "stdout",
     "output_type": "stream",
     "text": [
      "Parameter containing:\n",
      "tensor([[ 0.4308, -0.1521,  0.0738],\n",
      "        [ 0.0761, -0.3898,  0.2226]], requires_grad=True)\n",
      "Parameter containing:\n",
      "tensor([0.5451, 0.3928], requires_grad=True)\n"
     ]
    }
   ],
   "source": [
    "# Define model\n",
    "model = nn.Linear(3, 2)\n",
    "print(model.weight)\n",
    "print(model.bias)"
   ]
  },
  {
   "cell_type": "markdown",
   "id": "7130c093",
   "metadata": {
    "papermill": {
     "duration": 0.17608,
     "end_time": "2022-01-04T19:59:08.750300",
     "exception": false,
     "start_time": "2022-01-04T19:59:08.574220",
     "status": "completed"
    },
    "tags": []
   },
   "source": [
    "PyTorch models also have a helpful `.parameters` method, which returns a list containing all the weights and bias matrices present in the model. For our linear regression model, we have one weight matrix and one bias matrix."
   ]
  },
  {
   "cell_type": "code",
   "execution_count": 41,
   "id": "87e84ffe",
   "metadata": {
    "execution": {
     "iopub.execute_input": "2022-01-04T19:59:09.106902Z",
     "iopub.status.busy": "2022-01-04T19:59:09.106253Z",
     "iopub.status.idle": "2022-01-04T19:59:09.111909Z",
     "shell.execute_reply": "2022-01-04T19:59:09.112438Z",
     "shell.execute_reply.started": "2022-01-04T19:47:02.230285Z"
    },
    "papermill": {
     "duration": 0.186163,
     "end_time": "2022-01-04T19:59:09.112614",
     "exception": false,
     "start_time": "2022-01-04T19:59:08.926451",
     "status": "completed"
    },
    "tags": []
   },
   "outputs": [
    {
     "data": {
      "text/plain": [
       "[Parameter containing:\n",
       " tensor([[ 0.4308, -0.1521,  0.0738],\n",
       "         [ 0.0761, -0.3898,  0.2226]], requires_grad=True),\n",
       " Parameter containing:\n",
       " tensor([0.5451, 0.3928], requires_grad=True)]"
      ]
     },
     "execution_count": 41,
     "metadata": {},
     "output_type": "execute_result"
    }
   ],
   "source": [
    "# Parameters\n",
    "list(model.parameters())"
   ]
  },
  {
   "cell_type": "markdown",
   "id": "8a88cb25",
   "metadata": {
    "papermill": {
     "duration": 0.175961,
     "end_time": "2022-01-04T19:59:09.464857",
     "exception": false,
     "start_time": "2022-01-04T19:59:09.288896",
     "status": "completed"
    },
    "tags": []
   },
   "source": [
    "We can use the model to generate predictions in the same way as before."
   ]
  },
  {
   "cell_type": "code",
   "execution_count": 42,
   "id": "1334ef4e",
   "metadata": {
    "execution": {
     "iopub.execute_input": "2022-01-04T19:59:09.820734Z",
     "iopub.status.busy": "2022-01-04T19:59:09.819743Z",
     "iopub.status.idle": "2022-01-04T19:59:09.828576Z",
     "shell.execute_reply": "2022-01-04T19:59:09.828047Z",
     "shell.execute_reply.started": "2022-01-04T19:47:03.529208Z"
    },
    "papermill": {
     "duration": 0.187663,
     "end_time": "2022-01-04T19:59:09.828730",
     "exception": false,
     "start_time": "2022-01-04T19:59:09.641067",
     "status": "completed"
    },
    "tags": []
   },
   "outputs": [
    {
     "data": {
      "text/plain": [
       "tensor([[ 24.9755, -10.5961],\n",
       "        [ 31.0858, -12.7375],\n",
       "        [ 21.9244, -32.3079],\n",
       "        [ 40.6742,  -0.3695],\n",
       "        [ 20.8356, -16.1947],\n",
       "        [ 25.5583, -10.1302],\n",
       "        [ 31.3117, -12.1251],\n",
       "        [ 22.4289, -32.0092],\n",
       "        [ 40.0914,  -0.8354],\n",
       "        [ 20.4786, -16.0482],\n",
       "        [ 25.2014,  -9.9837],\n",
       "        [ 31.6686, -12.2716],\n",
       "        [ 21.6985, -32.9202],\n",
       "        [ 41.0311,  -0.5159],\n",
       "        [ 20.2527, -16.6606]], grad_fn=<AddmmBackward>)"
      ]
     },
     "execution_count": 42,
     "metadata": {},
     "output_type": "execute_result"
    }
   ],
   "source": [
    "# Generate predictions\n",
    "preds = model(inputs)\n",
    "preds"
   ]
  },
  {
   "cell_type": "markdown",
   "id": "cb255ce3",
   "metadata": {
    "papermill": {
     "duration": 0.177561,
     "end_time": "2022-01-04T19:59:10.184762",
     "exception": false,
     "start_time": "2022-01-04T19:59:10.007201",
     "status": "completed"
    },
    "tags": []
   },
   "source": [
    "## Loss Function\n",
    "\n",
    "Instead of defining a loss function manually, we can use the built-in loss function `mse_loss`."
   ]
  },
  {
   "cell_type": "code",
   "execution_count": 43,
   "id": "c2aeb534",
   "metadata": {
    "execution": {
     "iopub.execute_input": "2022-01-04T19:59:10.542583Z",
     "iopub.status.busy": "2022-01-04T19:59:10.541527Z",
     "iopub.status.idle": "2022-01-04T19:59:10.544115Z",
     "shell.execute_reply": "2022-01-04T19:59:10.543487Z",
     "shell.execute_reply.started": "2022-01-04T19:47:04.836157Z"
    },
    "papermill": {
     "duration": 0.183823,
     "end_time": "2022-01-04T19:59:10.544253",
     "exception": false,
     "start_time": "2022-01-04T19:59:10.360430",
     "status": "completed"
    },
    "tags": []
   },
   "outputs": [],
   "source": [
    "# Import nn.functional\n",
    "import torch.nn.functional as F"
   ]
  },
  {
   "cell_type": "markdown",
   "id": "1e3eef70",
   "metadata": {
    "papermill": {
     "duration": 0.17479,
     "end_time": "2022-01-04T19:59:10.894105",
     "exception": false,
     "start_time": "2022-01-04T19:59:10.719315",
     "status": "completed"
    },
    "tags": []
   },
   "source": [
    "The `nn.functional` package contains many useful loss functions and several other utilities. "
   ]
  },
  {
   "cell_type": "code",
   "execution_count": 44,
   "id": "9f31608f",
   "metadata": {
    "execution": {
     "iopub.execute_input": "2022-01-04T19:59:11.250594Z",
     "iopub.status.busy": "2022-01-04T19:59:11.249513Z",
     "iopub.status.idle": "2022-01-04T19:59:11.252356Z",
     "shell.execute_reply": "2022-01-04T19:59:11.251682Z",
     "shell.execute_reply.started": "2022-01-04T19:47:20.186927Z"
    },
    "papermill": {
     "duration": 0.182809,
     "end_time": "2022-01-04T19:59:11.252516",
     "exception": false,
     "start_time": "2022-01-04T19:59:11.069707",
     "status": "completed"
    },
    "tags": []
   },
   "outputs": [],
   "source": [
    "# Define loss function\n",
    "loss_fn = F.mse_loss"
   ]
  },
  {
   "cell_type": "markdown",
   "id": "0181c523",
   "metadata": {
    "papermill": {
     "duration": 0.177214,
     "end_time": "2022-01-04T19:59:11.606428",
     "exception": false,
     "start_time": "2022-01-04T19:59:11.429214",
     "status": "completed"
    },
    "tags": []
   },
   "source": [
    "Let's compute the loss for the current predictions of our model."
   ]
  },
  {
   "cell_type": "code",
   "execution_count": 45,
   "id": "99764692",
   "metadata": {
    "execution": {
     "iopub.execute_input": "2022-01-04T19:59:11.964303Z",
     "iopub.status.busy": "2022-01-04T19:59:11.963337Z",
     "iopub.status.idle": "2022-01-04T19:59:11.969576Z",
     "shell.execute_reply": "2022-01-04T19:59:11.970416Z",
     "shell.execute_reply.started": "2022-01-04T19:47:22.636963Z"
    },
    "papermill": {
     "duration": 0.187868,
     "end_time": "2022-01-04T19:59:11.970644",
     "exception": false,
     "start_time": "2022-01-04T19:59:11.782776",
     "status": "completed"
    },
    "tags": []
   },
   "outputs": [
    {
     "name": "stdout",
     "output_type": "stream",
     "text": [
      "tensor(8623.8057, grad_fn=<MseLossBackward>)\n"
     ]
    }
   ],
   "source": [
    "loss = loss_fn(model(inputs), targets)\n",
    "print(loss)"
   ]
  },
  {
   "cell_type": "markdown",
   "id": "5363e9cf",
   "metadata": {
    "papermill": {
     "duration": 0.176099,
     "end_time": "2022-01-04T19:59:12.324050",
     "exception": false,
     "start_time": "2022-01-04T19:59:12.147951",
     "status": "completed"
    },
    "tags": []
   },
   "source": [
    "## Optimizer\n",
    "\n",
    "Instead of manually manipulating the model's weights & biases using gradients, we can use the optimizer `optim.SGD`. SGD is short for \"stochastic gradient descent\". The term _stochastic_ indicates that samples are selected in random batches instead of as a single group."
   ]
  },
  {
   "cell_type": "code",
   "execution_count": 46,
   "id": "704bcb2e",
   "metadata": {
    "execution": {
     "iopub.execute_input": "2022-01-04T19:59:12.681291Z",
     "iopub.status.busy": "2022-01-04T19:59:12.680315Z",
     "iopub.status.idle": "2022-01-04T19:59:12.684315Z",
     "shell.execute_reply": "2022-01-04T19:59:12.684868Z",
     "shell.execute_reply.started": "2022-01-04T19:47:28.521785Z"
    },
    "papermill": {
     "duration": 0.184597,
     "end_time": "2022-01-04T19:59:12.685038",
     "exception": false,
     "start_time": "2022-01-04T19:59:12.500441",
     "status": "completed"
    },
    "tags": []
   },
   "outputs": [],
   "source": [
    "# Define optimizer\n",
    "opt = torch.optim.SGD(model.parameters(), lr=1e-5)"
   ]
  },
  {
   "cell_type": "markdown",
   "id": "ba41ce71",
   "metadata": {
    "papermill": {
     "duration": 0.17688,
     "end_time": "2022-01-04T19:59:13.038909",
     "exception": false,
     "start_time": "2022-01-04T19:59:12.862029",
     "status": "completed"
    },
    "tags": []
   },
   "source": [
    "Note that `model.parameters()` is passed as an argument to `optim.SGD` so that the optimizer knows which matrices should be modified during the update step. Also, we can specify a learning rate that controls the amount by which the parameters are modified."
   ]
  },
  {
   "cell_type": "markdown",
   "id": "9403bc4f",
   "metadata": {
    "papermill": {
     "duration": 0.175797,
     "end_time": "2022-01-04T19:59:13.392741",
     "exception": false,
     "start_time": "2022-01-04T19:59:13.216944",
     "status": "completed"
    },
    "tags": []
   },
   "source": [
    "## Train the model\n",
    "\n",
    "We are now ready to train the model. We'll follow the same process to implement gradient descent:\n",
    "\n",
    "1. Generate predictions\n",
    "\n",
    "2. Calculate the loss\n",
    "\n",
    "3. Compute gradients w.r.t the weights and biases\n",
    "\n",
    "4. Adjust the weights by subtracting a small quantity proportional to the gradient\n",
    "\n",
    "5. Reset the gradients to zero\n",
    "\n",
    "The only change is that we'll work batches of data instead of processing the entire training data in every iteration. Let's define a utility function `fit` that trains the model for a given number of epochs."
   ]
  },
  {
   "cell_type": "code",
   "execution_count": 47,
   "id": "ed8ac0c0",
   "metadata": {
    "execution": {
     "iopub.execute_input": "2022-01-04T19:59:13.749602Z",
     "iopub.status.busy": "2022-01-04T19:59:13.748573Z",
     "iopub.status.idle": "2022-01-04T19:59:13.754845Z",
     "shell.execute_reply": "2022-01-04T19:59:13.755348Z",
     "shell.execute_reply.started": "2022-01-04T19:47:43.107819Z"
    },
    "papermill": {
     "duration": 0.186136,
     "end_time": "2022-01-04T19:59:13.755522",
     "exception": false,
     "start_time": "2022-01-04T19:59:13.569386",
     "status": "completed"
    },
    "tags": []
   },
   "outputs": [],
   "source": [
    "# Utility function to train the model\n",
    "def fit(num_epochs, model, loss_fn, opt, train_dl):\n",
    "    \n",
    "    # Repeat for given number of epochs\n",
    "    for epoch in range(num_epochs):\n",
    "        \n",
    "        # Train with batches of data\n",
    "        for xb,yb in train_dl:\n",
    "            \n",
    "            # 1. Generate predictions\n",
    "            pred = model(xb)\n",
    "            \n",
    "            # 2. Calculate loss\n",
    "            loss = loss_fn(pred, yb)\n",
    "            \n",
    "            # 3. Compute gradients\n",
    "            loss.backward()\n",
    "            \n",
    "            # 4. Update parameters using gradients\n",
    "            opt.step()\n",
    "            \n",
    "            # 5. Reset the gradients to zero\n",
    "            opt.zero_grad()\n",
    "        \n",
    "        # Print the progress\n",
    "        if (epoch+1) % 10 == 0:\n",
    "            print('Epoch [{}/{}], Loss: {:.4f}'.format(epoch+1, num_epochs, loss.item()))"
   ]
  },
  {
   "cell_type": "markdown",
   "id": "820ac47d",
   "metadata": {
    "papermill": {
     "duration": 0.178328,
     "end_time": "2022-01-04T19:59:14.110562",
     "exception": false,
     "start_time": "2022-01-04T19:59:13.932234",
     "status": "completed"
    },
    "tags": []
   },
   "source": [
    "Some things to note above:\n",
    "\n",
    "* We use the data loader defined earlier to get batches of data for every iteration.\n",
    "\n",
    "* Instead of updating parameters (weights and biases) manually, we use `opt.step` to perform the update and `opt.zero_grad` to reset the gradients to zero.\n",
    "\n",
    "* We've also added a log statement that prints the loss from the last batch of data for every 10th epoch to track training progress. `loss.item` returns the actual value stored in the loss tensor.\n",
    "\n",
    "Let's train the model for 100 epochs."
   ]
  },
  {
   "cell_type": "code",
   "execution_count": 48,
   "id": "2cd99837",
   "metadata": {
    "execution": {
     "iopub.execute_input": "2022-01-04T19:59:14.467700Z",
     "iopub.status.busy": "2022-01-04T19:59:14.467064Z",
     "iopub.status.idle": "2022-01-04T19:59:14.600258Z",
     "shell.execute_reply": "2022-01-04T19:59:14.601061Z",
     "shell.execute_reply.started": "2022-01-04T19:47:53.699016Z"
    },
    "papermill": {
     "duration": 0.313944,
     "end_time": "2022-01-04T19:59:14.601297",
     "exception": false,
     "start_time": "2022-01-04T19:59:14.287353",
     "status": "completed"
    },
    "tags": []
   },
   "outputs": [
    {
     "name": "stdout",
     "output_type": "stream",
     "text": [
      "Epoch [10/100], Loss: 1162.6484\n",
      "Epoch [20/100], Loss: 237.2063\n",
      "Epoch [30/100], Loss: 325.5510\n",
      "Epoch [40/100], Loss: 101.8488\n",
      "Epoch [50/100], Loss: 182.0465\n",
      "Epoch [60/100], Loss: 118.2307\n",
      "Epoch [70/100], Loss: 85.4599\n",
      "Epoch [80/100], Loss: 83.5208\n",
      "Epoch [90/100], Loss: 17.4344\n",
      "Epoch [100/100], Loss: 3.8286\n"
     ]
    }
   ],
   "source": [
    "fit(100, model, loss_fn, opt, train_dl)"
   ]
  },
  {
   "cell_type": "markdown",
   "id": "23c6bcfe",
   "metadata": {
    "papermill": {
     "duration": 0.178867,
     "end_time": "2022-01-04T19:59:14.958749",
     "exception": false,
     "start_time": "2022-01-04T19:59:14.779882",
     "status": "completed"
    },
    "tags": []
   },
   "source": [
    "Let's generate predictions using our model and verify that they're close to our targets."
   ]
  },
  {
   "cell_type": "code",
   "execution_count": 49,
   "id": "a473d72c",
   "metadata": {
    "execution": {
     "iopub.execute_input": "2022-01-04T19:59:15.323559Z",
     "iopub.status.busy": "2022-01-04T19:59:15.322557Z",
     "iopub.status.idle": "2022-01-04T19:59:15.328199Z",
     "shell.execute_reply": "2022-01-04T19:59:15.328723Z",
     "shell.execute_reply.started": "2022-01-04T19:47:57.061716Z"
    },
    "papermill": {
     "duration": 0.188764,
     "end_time": "2022-01-04T19:59:15.328919",
     "exception": false,
     "start_time": "2022-01-04T19:59:15.140155",
     "status": "completed"
    },
    "tags": []
   },
   "outputs": [
    {
     "data": {
      "text/plain": [
       "tensor([[ 58.7640,  71.8418],\n",
       "        [ 81.1983, 100.1842],\n",
       "        [117.2062, 131.2735],\n",
       "        [ 30.5987,  45.6475],\n",
       "        [ 94.8066, 113.3564],\n",
       "        [ 57.7390,  70.9541],\n",
       "        [ 80.8017, 100.1334],\n",
       "        [117.4250, 131.8479],\n",
       "        [ 31.6237,  46.5352],\n",
       "        [ 95.4350, 114.1932],\n",
       "        [ 58.3673,  71.7910],\n",
       "        [ 80.1733,  99.2966],\n",
       "        [117.6028, 131.3243],\n",
       "        [ 29.9703,  44.8107],\n",
       "        [ 95.8316, 114.2441]], grad_fn=<AddmmBackward>)"
      ]
     },
     "execution_count": 49,
     "metadata": {},
     "output_type": "execute_result"
    }
   ],
   "source": [
    "# Generate predictions\n",
    "preds = model(inputs)\n",
    "preds"
   ]
  },
  {
   "cell_type": "code",
   "execution_count": 50,
   "id": "590b82de",
   "metadata": {
    "execution": {
     "iopub.execute_input": "2022-01-04T19:59:15.689020Z",
     "iopub.status.busy": "2022-01-04T19:59:15.688308Z",
     "iopub.status.idle": "2022-01-04T19:59:15.693215Z",
     "shell.execute_reply": "2022-01-04T19:59:15.693803Z",
     "shell.execute_reply.started": "2022-01-04T19:48:00.735622Z"
    },
    "papermill": {
     "duration": 0.18758,
     "end_time": "2022-01-04T19:59:15.693988",
     "exception": false,
     "start_time": "2022-01-04T19:59:15.506408",
     "status": "completed"
    },
    "tags": []
   },
   "outputs": [
    {
     "data": {
      "text/plain": [
       "tensor([[ 56.,  70.],\n",
       "        [ 81., 101.],\n",
       "        [119., 133.],\n",
       "        [ 22.,  37.],\n",
       "        [103., 119.],\n",
       "        [ 57.,  69.],\n",
       "        [ 80., 102.],\n",
       "        [118., 132.],\n",
       "        [ 21.,  38.],\n",
       "        [104., 118.],\n",
       "        [ 57.,  69.],\n",
       "        [ 82., 100.],\n",
       "        [118., 134.],\n",
       "        [ 20.,  38.],\n",
       "        [102., 120.]])"
      ]
     },
     "execution_count": 50,
     "metadata": {},
     "output_type": "execute_result"
    }
   ],
   "source": [
    "# Compare with targets\n",
    "targets"
   ]
  },
  {
   "cell_type": "markdown",
   "id": "28cd1fc8",
   "metadata": {
    "papermill": {
     "duration": 0.17853,
     "end_time": "2022-01-04T19:59:16.050314",
     "exception": false,
     "start_time": "2022-01-04T19:59:15.871784",
     "status": "completed"
    },
    "tags": []
   },
   "source": [
    "Indeed, the predictions are quite close to our targets. We have a trained a reasonably good model to predict crop yields for apples and oranges by looking at the average temperature, rainfall, and humidity in a region. We can use it to make predictions of crop yields for new regions by passing a batch containing a single row of input."
   ]
  },
  {
   "cell_type": "code",
   "execution_count": 51,
   "id": "a71ca5b7",
   "metadata": {
    "execution": {
     "iopub.execute_input": "2022-01-04T19:59:16.408836Z",
     "iopub.status.busy": "2022-01-04T19:59:16.408155Z",
     "iopub.status.idle": "2022-01-04T19:59:16.414277Z",
     "shell.execute_reply": "2022-01-04T19:59:16.414880Z",
     "shell.execute_reply.started": "2022-01-04T19:48:12.918018Z"
    },
    "papermill": {
     "duration": 0.187058,
     "end_time": "2022-01-04T19:59:16.415053",
     "exception": false,
     "start_time": "2022-01-04T19:59:16.227995",
     "status": "completed"
    },
    "tags": []
   },
   "outputs": [
    {
     "data": {
      "text/plain": [
       "tensor([[55.4971, 69.2591]], grad_fn=<AddmmBackward>)"
      ]
     },
     "execution_count": 51,
     "metadata": {},
     "output_type": "execute_result"
    }
   ],
   "source": [
    "model(torch.tensor([[75, 63, 44.]]))"
   ]
  },
  {
   "cell_type": "markdown",
   "id": "034a8b07",
   "metadata": {
    "papermill": {
     "duration": 0.177946,
     "end_time": "2022-01-04T19:59:16.771173",
     "exception": false,
     "start_time": "2022-01-04T19:59:16.593227",
     "status": "completed"
    },
    "tags": []
   },
   "source": [
    "The predicted yield of apples is 54.3 tons per hectare, and that of oranges is 68.3 tons per hectare."
   ]
  },
  {
   "cell_type": "markdown",
   "id": "4239f62e",
   "metadata": {
    "papermill": {
     "duration": 0.176266,
     "end_time": "2022-01-04T19:59:17.127401",
     "exception": false,
     "start_time": "2022-01-04T19:59:16.951135",
     "status": "completed"
    },
    "tags": []
   },
   "source": [
    "## Machine Learning vs. Classical Programming\n",
    "\n",
    "The approach we've taken in this tutorial is very different from programming as you might know it. Usually, we write programs that take some inputs, perform some operations, and return a result. \n",
    "\n",
    "However, in this notebook, we've defined a \"model\" that assumes a specific relationship between the inputs and the outputs, expressed using some unknown parameters (weights & biases). We then show the model some know inputs and outputs and _train_ the model to come up with good values for the unknown parameters. Once trained, the model can be used to compute the outputs for new inputs.\n",
    "\n",
    "This paradigm of programming is known as _machine learning_, where we use data to figure out the relationship between inputs and outputs. _Deep learning_ is a branch of machine learning that uses matrix operations, non-linear activation functions and gradient descent to build and train models. Andrej Karpathy, the director of AI at Tesla Motors, has written a great blog post on this topics, titled [Software 2.0](https://medium.com/@karpathy/software-2-0-a64152b37c35).\n",
    "\n",
    "This picture from book [Deep Learning with Python](https://www.manning.com/books/deep-learning-with-python) by Francois Chollet captures the difference between classical programming and machine learning:\n",
    "\n",
    "![](https://i.imgur.com/oJEQe7k.png)\n",
    "\n",
    "Keep this picture in mind as you work through the next few tutorials. \n",
    "\n"
   ]
  },
  {
   "cell_type": "markdown",
   "id": "a5aecfd1",
   "metadata": {
    "papermill": {
     "duration": 0.17654,
     "end_time": "2022-01-04T19:59:17.480837",
     "exception": false,
     "start_time": "2022-01-04T19:59:17.304297",
     "status": "completed"
    },
    "tags": []
   },
   "source": [
    "## Commit and update the notebook\n",
    "\n",
    "As a final step, we can record a new version of the notebook using the `jovian` library."
   ]
  },
  {
   "cell_type": "code",
   "execution_count": 52,
   "id": "55c0adea",
   "metadata": {
    "execution": {
     "iopub.execute_input": "2022-01-04T19:59:17.853881Z",
     "iopub.status.busy": "2022-01-04T19:59:17.853203Z",
     "iopub.status.idle": "2022-01-04T19:59:17.855328Z",
     "shell.execute_reply": "2022-01-04T19:59:17.854735Z"
    },
    "papermill": {
     "duration": 0.190711,
     "end_time": "2022-01-04T19:59:17.855477",
     "exception": false,
     "start_time": "2022-01-04T19:59:17.664766",
     "status": "completed"
    },
    "tags": []
   },
   "outputs": [],
   "source": [
    "import jovian"
   ]
  },
  {
   "cell_type": "code",
   "execution_count": 53,
   "id": "e7cc754d",
   "metadata": {
    "execution": {
     "iopub.execute_input": "2022-01-04T19:59:18.217151Z",
     "iopub.status.busy": "2022-01-04T19:59:18.216469Z",
     "iopub.status.idle": "2022-01-04T19:59:19.224647Z",
     "shell.execute_reply": "2022-01-04T19:59:19.225362Z"
    },
    "papermill": {
     "duration": 1.191816,
     "end_time": "2022-01-04T19:59:19.225583",
     "exception": false,
     "start_time": "2022-01-04T19:59:18.033767",
     "status": "completed"
    },
    "tags": []
   },
   "outputs": [
    {
     "data": {
      "application/javascript": [
       "window.require && require([\"base/js/namespace\"],function(Jupyter){Jupyter.notebook.save_checkpoint()})"
      ],
      "text/plain": [
       "<IPython.core.display.Javascript object>"
      ]
     },
     "metadata": {},
     "output_type": "display_data"
    },
    {
     "data": {
      "application/javascript": [
       "if (window.IPython && IPython.notebook.kernel) IPython.notebook.kernel.execute('jovian.utils.jupyter.get_notebook_name_saved = lambda: \"' + IPython.notebook.notebook_name + '\"')"
      ],
      "text/plain": [
       "<IPython.core.display.Javascript object>"
      ]
     },
     "metadata": {},
     "output_type": "display_data"
    },
    {
     "name": "stderr",
     "output_type": "stream",
     "text": [
      "\u001b[31m[jovian] Error: Failed to read the Jupyter notebook. Please re-run this cell to try again. If the issue persists, provide the \"filename\" argument to \"jovian.commit\" e.g. \"jovian.commit(filename='my-notebook.ipynb')\"\u001b[0m\n"
     ]
    }
   ],
   "source": [
    "jovian.commit(project='02-linear-regression')"
   ]
  },
  {
   "cell_type": "markdown",
   "id": "e1bc04b3",
   "metadata": {
    "papermill": {
     "duration": 0.178543,
     "end_time": "2022-01-04T19:59:19.583172",
     "exception": false,
     "start_time": "2022-01-04T19:59:19.404629",
     "status": "completed"
    },
    "tags": []
   },
   "source": [
    "Note that running `jovian.commit` a second time records a new version of your existing notebook. With Jovian.ml, you can avoid creating copies of your Jupyter notebooks and keep versions organized. Jovian also provides a visual diff ([example](https://jovian.ai/aakashns/keras-mnist-jovian/diff?base=8&remote=2)) so you can inspect what has changed between different versions:\n",
    "\n",
    "![jovian-commenting](https://i.imgur.com/HF1cOVt.png)"
   ]
  },
  {
   "cell_type": "markdown",
   "id": "43bec352",
   "metadata": {
    "papermill": {
     "duration": 0.179341,
     "end_time": "2022-01-04T19:59:19.944700",
     "exception": false,
     "start_time": "2022-01-04T19:59:19.765359",
     "status": "completed"
    },
    "tags": []
   },
   "source": [
    "## Exercises and Further Reading\n",
    "\n",
    "We've covered the following topics in this tutorial:\n",
    "\n",
    "- Introduction to linear regression and gradient descent\n",
    "- Implementing a linear regression model using PyTorch tensors\n",
    "- Training a linear regression model using the gradient descent algorithm\n",
    "- Implementing gradient descent and linear regression using PyTorch built-in\n",
    "\n",
    "\n",
    "Here are some resources for learning more about linear regression and gradient descent:\n",
    "\n",
    "* An visual & animated explanation of gradient descent: https://www.youtube.com/watch?v=IHZwWFHWa-w\n",
    "\n",
    "* For a more detailed explanation of derivates and gradient descent, see [these notes from a Udacity course](https://storage.googleapis.com/supplemental_media/udacityu/315142919/Gradient%20Descent.pdf). \n",
    "\n",
    "* For an animated visualization of how linear regression works, [see this post](https://hackernoon.com/visualizing-linear-regression-with-pytorch-9261f49edb09).\n",
    "\n",
    "* For a more mathematical treatment of matrix calculus, linear regression and gradient descent, you should check out [Andrew Ng's excellent course notes](https://github.com/Cleo-Stanford-CS/CS229_Notes/blob/master/lectures/cs229-notes1.pdf) from CS229 at Stanford University.\n",
    "\n",
    "* To practice and test your skills, you can participate in the [Boston Housing Price Prediction](https://www.kaggle.com/c/boston-housing) competition on Kaggle, a website that hosts data science competitions.\n",
    "\n",
    "With this, we complete our discussion of linear regression in PyTorch, and we’re ready to move on to the next topic: [Working with Images & Logistic Regression](https://jovian.ai/aakashns/03-logistic-regression)."
   ]
  },
  {
   "cell_type": "markdown",
   "id": "862ffecf",
   "metadata": {
    "papermill": {
     "duration": 0.181481,
     "end_time": "2022-01-04T19:59:20.308345",
     "exception": false,
     "start_time": "2022-01-04T19:59:20.126864",
     "status": "completed"
    },
    "tags": []
   },
   "source": [
    "## Questions for Review\n",
    "\n",
    "Try answering the following questions to test your understanding of the topics covered in this notebook:\n",
    "\n",
    "1. What is a linear regression model? Give an example of a problem formulated as a linear regression model.\n",
    "2. What are input and target variables in a dataset? Give an example.\n",
    "3. What are weights and biases in a linear regression model?\n",
    "4. How do you represent tabular data using PyTorch tensors?\n",
    "5. Why do we create separate matrices for inputs and targets while training a linear regression model?\n",
    "6. How do you determine the shape of the weights matrix & bias vector given some training data?\n",
    "7. How do you create randomly initialized weights & biases with a given shape?\n",
    "8. How is a linear regression model implemented using matrix operations? Explain with an example.\n",
    "9. How do you generate predictions using a linear regression model?\n",
    "10. Why are the predictions of a randomly initialized model different from the actual targets?\n",
    "11. What is a loss function? What does the term “loss” signify?\n",
    "12. What is mean squared error?\n",
    "13. Write a function to calculate mean squared using model predictions and actual targets.\n",
    "14. What happens when you invoke the `.backward` function on the result of the mean squared error loss function?\n",
    "15. Why is the derivative of the loss w.r.t. the weights matrix itself a matrix? What do its elements represent?\n",
    "16. How is the derivate of the loss w.r.t. a weight element useful for reducing the loss? Explain with an example.\n",
    "17. Suppose the derivative  of the loss w.r.t. a weight element is positive. Should you increase or decrease the element’s value slightly to get a lower loss?\n",
    "18. Suppose the derivative  of the loss w.r.t. a weight element is negative. Should you increase or decrease the element’s value slightly to get a lower loss?\n",
    "19. How do you update the weights and biases of a model using their respective gradients to reduce the loss slightly?\n",
    "20. What is the gradient descent optimization algorithm? Why is it called “gradient descent”?\n",
    "21. Why do you subtract a “small quantity” proportional to the gradient from the weights & biases, not the actual gradient itself?\n",
    "22. What is learning rate? Why is it important?\n",
    "23. What is `torch.no_grad`?\n",
    "24. Why do you reset gradients to zero after updating weights and biases?\n",
    "25. What are the steps involved in training a linear regression model using gradient descent?\n",
    "26. What is an epoch?\n",
    "27. What is the benefit of training a model for multiple epochs?\n",
    "28. How do you make predictions using a trained model?\n",
    "29. What should you do if your model’s loss doesn’t decrease while training? Hint: learning rate.\n",
    "30. What is `torch.nn`?\n",
    "31. What is the purpose of the `TensorDataset` class in PyTorch? Give an example.\n",
    "32. What is a data loader in PyTorch? Give an example.\n",
    "33. How do you use a data loader to retrieve batches of data?\n",
    "34. What are the benefits of shuffling the training data before creating batches?\n",
    "35. What is the benefit of training in small batches instead of training with the entire dataset?\n",
    "36. What is the purpose of the `nn.Linear` class in PyTorch? Give an example.\n",
    "37. How do you see the weights and biases of a `nn.Linear` model?\n",
    "38. What is the purpose of the `torch.nn.functional` module?\n",
    "39. How do you compute mean squared error loss using a PyTorch built-in function?\n",
    "40. What is an optimizer in PyTorch?\n",
    "41. What is `torch.optim.SGD`? What does SGD stand for?\n",
    "42. What are the inputs to a PyTorch optimizer? \n",
    "43. Give an example of creating an optimizer for training a linear regression model.\n",
    "44. Write a function to train a `nn.Linear` model in batches using gradient descent.\n",
    "45. How do you use a linear regression model to make predictions on previously unseen data? ",
    "\n"
   ]
  }
 ],
 "metadata": {
  "kernelspec": {
   "display_name": "Python 3",
   "language": "python",
   "name": "python3"
  },
  "language_info": {
   "codemirror_mode": {
    "name": "ipython",
    "version": 3
   },
   "file_extension": ".py",
   "mimetype": "text/x-python",
   "name": "python",
   "nbconvert_exporter": "python",
   "pygments_lexer": "ipython3",
   "version": "3.7.12"
  },
  "papermill": {
   "default_parameters": {},
   "duration": 110.682635,
   "end_time": "2022-01-04T19:59:21.198836",
   "environment_variables": {},
   "exception": null,
   "input_path": "__notebook__.ipynb",
   "output_path": "__notebook__.ipynb",
   "parameters": {},
   "start_time": "2022-01-04T19:57:30.516201",
   "version": "2.3.3"
  }
 },
 "nbformat": 4,
 "nbformat_minor": 5
}
